{
 "cells": [
  {
   "cell_type": "markdown",
   "id": "e12dcf49",
   "metadata": {},
   "source": [
    "### Import Needed library"
   ]
  },
  {
   "cell_type": "code",
   "execution_count": 1,
   "id": "4c44b0c4",
   "metadata": {},
   "outputs": [],
   "source": [
    "import pandas as pd\n",
    "import numpy as np\n",
    "import seaborn as sns\n",
    "import psycopg2\n",
    "import matplotlib.pyplot as plt\n",
    "import scipy.stats\n",
    "from prettytable import PrettyTable\n",
    "import math"
   ]
  },
  {
   "cell_type": "markdown",
   "id": "544e45d5",
   "metadata": {},
   "source": [
    "### Loading Data..."
   ]
  },
  {
   "cell_type": "code",
   "execution_count": 2,
   "id": "d003b726",
   "metadata": {},
   "outputs": [],
   "source": [
    "postgresConnection = psycopg2.connect(host='***', port='5432', database='***', user='***', password='***')\n",
    "cursor = postgresConnection.cursor()\n",
    "data = pd.read_sql('select * from Course2_ToolTechniquesforDataScience',postgresConnection)\n",
    "cursor.close()"
   ]
  },
  {
   "cell_type": "markdown",
   "id": "02b419ea",
   "metadata": {},
   "source": [
    "### Looking at data\n",
    "  To take a first look at the data we can use different commands, here are some of the popular one"
   ]
  },
  {
   "cell_type": "code",
   "execution_count": 3,
   "id": "f915576c",
   "metadata": {},
   "outputs": [
    {
     "name": "stdout",
     "output_type": "stream",
     "text": [
      "look to data\n",
      "\n",
      "  serial_number payment_type province_name  gender  age nationality  \\\n",
      "0      C0000032          PRE       esfahan    male   77          FI   \n",
      "1      C0000071          PRE       esfahan    male   37          US   \n",
      "2      C0000101          PRE       esfahan    male   41          IE   \n",
      "3      C0000212          PRE       esfahan  female   35          IE   \n",
      "4      C0000239          PRE       esfahan  female   29          FI   \n",
      "\n",
      "     payment       sms     data  data_package       voice  \n",
      "0   700000.0    125.54     0.00     3619890.0    5340.391  \n",
      "1        0.0   9917.66     0.00       35490.4    1143.204  \n",
      "2   670000.0   1129.86     0.00     5581236.0   63496.758  \n",
      "3    50000.0   1632.02  7779.33        7673.6   53452.902  \n",
      "4  1680000.0  47912.32     0.00     3723483.5  268440.380  \n",
      "\n",
      "Describe the integer features\n",
      "\n",
      "                age       payment           sms          data  data_package  \\\n",
      "count  2.546549e+06  2.546549e+06  2.546549e+06  2.546549e+06  2.546549e+06   \n",
      "mean   5.081127e+01  3.259824e+05  8.836000e+03  1.933281e+04  5.967703e+05   \n",
      "std    1.560506e+01  4.603646e+05  3.048929e+04  8.383060e+04  1.108684e+06   \n",
      "min    2.400000e+01  0.000000e+00  0.000000e+00  0.000000e+00  0.000000e+00   \n",
      "25%    3.700000e+01  0.000000e+00  2.140200e+02  0.000000e+00  0.000000e+00   \n",
      "50%    5.100000e+01  1.500000e+05  1.883100e+03  0.000000e+00  0.000000e+00   \n",
      "75%    6.400000e+01  4.900000e+05  6.945020e+03  4.705531e+03  9.090600e+05   \n",
      "max    7.800000e+01  1.639000e+08  5.983656e+06  2.460130e+07  3.060720e+07   \n",
      "\n",
      "              voice  \n",
      "count  2.546549e+06  \n",
      "mean   7.957736e+04  \n",
      "std    1.333377e+05  \n",
      "min    0.000000e+00  \n",
      "25%    4.915773e+03  \n",
      "50%    3.236149e+04  \n",
      "75%    1.002292e+05  \n",
      "max    1.187798e+07  \n",
      "\n",
      "check current situation of all features\n",
      "\n",
      "<class 'pandas.core.frame.DataFrame'>\n",
      "RangeIndex: 2546549 entries, 0 to 2546548\n",
      "Data columns (total 11 columns):\n",
      " #   Column         Dtype  \n",
      "---  ------         -----  \n",
      " 0   serial_number  object \n",
      " 1   payment_type   object \n",
      " 2   province_name  object \n",
      " 3   gender         object \n",
      " 4   age            int64  \n",
      " 5   nationality    object \n",
      " 6   payment        float64\n",
      " 7   sms            float64\n",
      " 8   data           float64\n",
      " 9   data_package   float64\n",
      " 10  voice          float64\n",
      "dtypes: float64(5), int64(1), object(5)\n",
      "memory usage: 213.7+ MB\n",
      "None\n"
     ]
    }
   ],
   "source": [
    "print('look to data\\n')\n",
    "print(data.head())\n",
    "print('\\nDescribe the integer features\\n')\n",
    "print(data.describe())\n",
    "print('\\ncheck current situation of all features\\n')\n",
    "print(data.info())"
   ]
  },
  {
   "cell_type": "markdown",
   "id": "cf30cf45",
   "metadata": {},
   "source": [
    "### Phase1: finding suitable destribution table for 'age' feature\n",
    "  Becuase in our job we want use age as group to separate usages and payment, we need to create group of each one and in this step, it is needed to create destribution table for it and created group based on that"
   ]
  },
  {
   "cell_type": "code",
   "execution_count": 4,
   "id": "f381bd6f",
   "metadata": {},
   "outputs": [
    {
     "name": "stdout",
     "output_type": "stream",
     "text": [
      "range of age in data: 54\n",
      "DescribeResult(nobs=2546549, minmax=(24, 78), mean=50.81126693419212, variance=243.51783728065516, skewness=-0.0012857165728903527, kurtosis=-1.1971191955929363)\n"
     ]
    }
   ],
   "source": [
    "range_age = max(data['age']) - min(data['age'])\n",
    "print('range of age in data: {0}'.format(range_age))\n",
    "desc_age = scipy.stats.describe(data['age'], ddof = 1, bias = False)\n",
    "print(desc_age)"
   ]
  },
  {
   "cell_type": "code",
   "execution_count": 5,
   "id": "916bf2df",
   "metadata": {},
   "outputs": [],
   "source": [
    "vbin = 6 # the number of groups I want to separate, based on the output of range\n",
    "# to finding range of distribution table, I will use below function\n",
    "def find_range(dataset, low, high):\n",
    "    import bisect\n",
    "    l = bisect.bisect_left(dataset, low)\n",
    "    r = bisect.bisect_right(dataset, high)\n",
    "    return dataset[l:r]\n",
    "\n",
    "age_l = list(data['age'])\n",
    "age_l.sort()\n",
    "co_ , range_l, c1= [] , [], 0\n",
    "range_c = range_age / vbin\n",
    "a = age_l[0]\n",
    "b = range_c + age_l[0]\n",
    "\n",
    "# create points and ogive values\n",
    "for i in range(0,vbin):\n",
    "    c1 = 0\n",
    "    if i == vbin-1:\n",
    "        ran = find_range(age_l, a, b)\n",
    "        c = len(ran)\n",
    "    else:\n",
    "        ran = find_range(age_l, a, b)\n",
    "        while ran[-1] == b:\n",
    "            ran.pop()\n",
    "        c = len(ran)\n",
    "    c1 += c\n",
    "    co_.append(c1)\n",
    "    range_l.append(ran)\n",
    "    a = b\n",
    "    b += range_c"
   ]
  },
  {
   "cell_type": "code",
   "execution_count": 6,
   "id": "42188431",
   "metadata": {},
   "outputs": [
    {
     "name": "stdout",
     "output_type": "stream",
     "text": [
      "  range   count       precentages      cumulative\n",
      "-------------------------------------------------\n",
      "(24, 32)  411368  0.16153940096970448   411368\n",
      "(33, 41)  420987  0.16531666973618023   832355\n",
      "(42, 50)  428115  0.16811575194508332   1260470\n",
      "(51, 59)  422750  0.16600897921068866   1683220\n",
      "(60, 68)  426483  0.1674748846379944   2109703\n",
      "(69, 78)  436846  0.1715443135003489   2546549\n"
     ]
    }
   ],
   "source": [
    "range_list = []\n",
    "for i in range(vbin):\n",
    "    range_list.append((min(range_l[i]),max(range_l[i])))\n",
    "\n",
    "# print the distribution table\n",
    "all_sum = sum(co_)\n",
    "cum = 0\n",
    "print('  range   count       precentages      cumulative')\n",
    "print('-------------------------------------------------')\n",
    "for i in range(vbin):\n",
    "    cum += co_[i]\n",
    "    print('{0}  {1}  {2}   {3}'.format(range_list[i], co_[i], co_[i]/all_sum, cum))"
   ]
  },
  {
   "cell_type": "code",
   "execution_count": 7,
   "id": "62ad0c15",
   "metadata": {},
   "outputs": [],
   "source": [
    "# replace range of age with group A, B, .., F\n",
    "data['age_range'] = data['age'].replace([range(24,33),range(31,42),range(42,51),range(51,60),range(60,69),range(69,79)],['A','B','C','D','E','F'])"
   ]
  },
  {
   "cell_type": "markdown",
   "id": "9443d5c0",
   "metadata": {},
   "source": [
    "### Phase2: check some crosstable for find relation between different subjective features\n",
    "\n",
    "Now we change the age to range of age and put object inseated of each range of group we can check some cross table with it and other subjective features\n"
   ]
  },
  {
   "cell_type": "code",
   "execution_count": 8,
   "id": "0530adde",
   "metadata": {},
   "outputs": [
    {
     "name": "stdout",
     "output_type": "stream",
     "text": [
      "payment_type    POS     PRE\n",
      "age_range                  \n",
      "A             60927  254439\n",
      "B             99316  417673\n",
      "C             82361  345754\n",
      "D             81490  341260\n",
      "E             82328  344155\n",
      "F             84569  352277\n",
      "-----------------------------------------------------------------------------------------------------------\n",
      "gender         female     male\n",
      "payment_type                  \n",
      "POS            245649   245342\n",
      "PRE           1026164  1029394\n",
      "-----------------------------------------------------------------------------------------------------------\n",
      "gender     female    male\n",
      "age_range                \n",
      "A          157722  157644\n",
      "B          257973  259016\n",
      "C          213552  214563\n",
      "D          211034  211716\n",
      "E          212982  213501\n",
      "F          218550  218296\n",
      "-----------------------------------------------------------------------------------------------------------\n",
      "gender                      female    male\n",
      "province_name                             \n",
      "Alborz                       43181   43060\n",
      "Ardebil                      15517   15453\n",
      "Azarbayjan gharbi            34499   35043\n",
      "Azarbayjan sharghi           40622   41132\n",
      "Ghom                         38103   38098\n",
      "Gilan                        17645   17714\n",
      "Golestan                     18472   18467\n",
      "Hamedan                      33945   33699\n",
      "Hormozgan                    18074   18208\n",
      "Kermanshah                   43428   43278\n",
      "Khorasan Jonubi              20634   20785\n",
      "Khorasan shomali             15864   15458\n",
      "Kohgilooyeh va booyerahmad   16956   16795\n",
      "Kordestan                    20205   20356\n",
      "Mazandaran                   19364   19627\n",
      "NaN                             53      61\n",
      "Semnan                       12709   12632\n",
      "Sistean va Baloochestan      30440   30344\n",
      "Tehran                      186200  186982\n",
      "Yazd                         36843   36467\n",
      "booshehr                     12038   12019\n",
      "chaharmahal va bakhtiyari    36940   36691\n",
      "esfahan                     161961  162294\n",
      "fars                         72643   72570\n",
      "ghazvin                      30011   30073\n",
      "ilam                         17980   18001\n",
      "kerman                       49637   49983\n",
      "khoozestan                   56181   56555\n",
      "khorasan razavi              79162   79832\n",
      "lorestan                     31312   31896\n",
      "markazi                      38649   38645\n",
      "zanjan                       22545   22518\n"
     ]
    }
   ],
   "source": [
    "print(pd.crosstab(data['age_range'],data['payment_type']))\n",
    "print('-----------------------------------------------------------------------------------------------------------')\n",
    "print(pd.crosstab(data['payment_type'],data['gender']))\n",
    "print('-----------------------------------------------------------------------------------------------------------')\n",
    "print(pd.crosstab(data['age_range'],data['gender']))\n",
    "print('-----------------------------------------------------------------------------------------------------------')\n",
    "print(pd.crosstab(data['province_name'],data['gender']))"
   ]
  },
  {
   "cell_type": "markdown",
   "id": "a640d91c",
   "metadata": {},
   "source": [
    "in above we check the cross table for some subjective features\n",
    "\n",
    "The first crosstable shows the distribution of payment type and age that very helpful to understand for commercial and which payment type is favority for which range of ages\n",
    "\n",
    "The second crosstable shows that both female and male like to have prepaid SIM instead of postpaid and it should be consider\n",
    "\n",
    "The third crosstable shows the normal distribution between different range of age in subscribers\n",
    "\n",
    "The last crosstable shows the number of subscribers in two provinces ('Tehran','esfahan') are alot more than others and something else we have 'NaN' value in our dataset\n",
    "\n",
    "there is two features that have most affect on probability of whole population, because the difference between observation is huge one of them is 'province_name' and another is 'payment_type'. in continue we discuse more about province_name and when we want to separate our dataset based on features, these two feature are our goal to check."
   ]
  },
  {
   "cell_type": "code",
   "execution_count": 9,
   "id": "da98effe",
   "metadata": {},
   "outputs": [
    {
     "data": {
      "text/plain": [
       "serial_number    0\n",
       "payment_type     0\n",
       "province_name    0\n",
       "gender           0\n",
       "age              0\n",
       "nationality      0\n",
       "payment          0\n",
       "sms              0\n",
       "data             0\n",
       "data_package     0\n",
       "voice            0\n",
       "age_range        0\n",
       "dtype: int64"
      ]
     },
     "execution_count": 9,
     "metadata": {},
     "output_type": "execute_result"
    }
   ],
   "source": [
    "data.isnull().sum()"
   ]
  },
  {
   "cell_type": "markdown",
   "id": "a5825706",
   "metadata": {},
   "source": [
    "With checking the null value in our dataset we get nothing because NaN is value and not null when loading data so we can't use normal dropna() function,"
   ]
  },
  {
   "cell_type": "code",
   "execution_count": 10,
   "id": "7770b11b",
   "metadata": {},
   "outputs": [],
   "source": [
    "data = data[data.province_name != 'NaN']"
   ]
  },
  {
   "cell_type": "code",
   "execution_count": 11,
   "id": "e1b48d12",
   "metadata": {},
   "outputs": [
    {
     "name": "stdout",
     "output_type": "stream",
     "text": [
      "gender                      female    male\n",
      "province_name                             \n",
      "Alborz                       43181   43060\n",
      "Ardebil                      15517   15453\n",
      "Azarbayjan gharbi            34499   35043\n",
      "Azarbayjan sharghi           40622   41132\n",
      "Ghom                         38103   38098\n",
      "Gilan                        17645   17714\n",
      "Golestan                     18472   18467\n",
      "Hamedan                      33945   33699\n",
      "Hormozgan                    18074   18208\n",
      "Kermanshah                   43428   43278\n",
      "Khorasan Jonubi              20634   20785\n",
      "Khorasan shomali             15864   15458\n",
      "Kohgilooyeh va booyerahmad   16956   16795\n",
      "Kordestan                    20205   20356\n",
      "Mazandaran                   19364   19627\n",
      "Semnan                       12709   12632\n",
      "Sistean va Baloochestan      30440   30344\n",
      "Tehran                      186200  186982\n",
      "Yazd                         36843   36467\n",
      "booshehr                     12038   12019\n",
      "chaharmahal va bakhtiyari    36940   36691\n",
      "esfahan                     161961  162294\n",
      "fars                         72643   72570\n",
      "ghazvin                      30011   30073\n",
      "ilam                         17980   18001\n",
      "kerman                       49637   49983\n",
      "khoozestan                   56181   56555\n",
      "khorasan razavi              79162   79832\n",
      "lorestan                     31312   31896\n",
      "markazi                      38649   38645\n",
      "zanjan                       22545   22518\n"
     ]
    }
   ],
   "source": [
    "# check the NaN values are dropped\n",
    "print(pd.crosstab(data['province_name'],data['gender']))"
   ]
  },
  {
   "cell_type": "code",
   "execution_count": 12,
   "id": "38d0d880",
   "metadata": {},
   "outputs": [
    {
     "data": {
      "text/plain": [
       "{'whiskers': [<matplotlib.lines.Line2D at 0x277b37e3190>,\n",
       "  <matplotlib.lines.Line2D at 0x277b37e3460>,\n",
       "  <matplotlib.lines.Line2D at 0x277b384c880>,\n",
       "  <matplotlib.lines.Line2D at 0x277b384cb50>,\n",
       "  <matplotlib.lines.Line2D at 0x277b384df00>,\n",
       "  <matplotlib.lines.Line2D at 0x277b384e1d0>,\n",
       "  <matplotlib.lines.Line2D at 0x277b384f580>,\n",
       "  <matplotlib.lines.Line2D at 0x277b384f850>,\n",
       "  <matplotlib.lines.Line2D at 0x277dc9c8c40>,\n",
       "  <matplotlib.lines.Line2D at 0x277dc9c8f10>,\n",
       "  <matplotlib.lines.Line2D at 0x277dc9ca2c0>,\n",
       "  <matplotlib.lines.Line2D at 0x277dc9ca590>],\n",
       " 'caps': [<matplotlib.lines.Line2D at 0x277b37e37f0>,\n",
       "  <matplotlib.lines.Line2D at 0x277b37e3a00>,\n",
       "  <matplotlib.lines.Line2D at 0x277b384ce20>,\n",
       "  <matplotlib.lines.Line2D at 0x277b384d0f0>,\n",
       "  <matplotlib.lines.Line2D at 0x277b384e4a0>,\n",
       "  <matplotlib.lines.Line2D at 0x277b384e770>,\n",
       "  <matplotlib.lines.Line2D at 0x277b384fb20>,\n",
       "  <matplotlib.lines.Line2D at 0x277b384fdf0>,\n",
       "  <matplotlib.lines.Line2D at 0x277dc9c91e0>,\n",
       "  <matplotlib.lines.Line2D at 0x277dc9c94b0>,\n",
       "  <matplotlib.lines.Line2D at 0x277dc9ca860>,\n",
       "  <matplotlib.lines.Line2D at 0x277dc9cab30>],\n",
       " 'boxes': [<matplotlib.lines.Line2D at 0x277b37e2ec0>,\n",
       "  <matplotlib.lines.Line2D at 0x277b384c5b0>,\n",
       "  <matplotlib.lines.Line2D at 0x277b384dc30>,\n",
       "  <matplotlib.lines.Line2D at 0x277b384f2b0>,\n",
       "  <matplotlib.lines.Line2D at 0x277dc9c8970>,\n",
       "  <matplotlib.lines.Line2D at 0x277dc9c9ff0>],\n",
       " 'medians': [<matplotlib.lines.Line2D at 0x277b37e3cd0>,\n",
       "  <matplotlib.lines.Line2D at 0x277b384d3c0>,\n",
       "  <matplotlib.lines.Line2D at 0x277b384ea40>,\n",
       "  <matplotlib.lines.Line2D at 0x277dc9c8100>,\n",
       "  <matplotlib.lines.Line2D at 0x277dc9c9780>,\n",
       "  <matplotlib.lines.Line2D at 0x277dc9cae00>],\n",
       " 'fliers': [<matplotlib.lines.Line2D at 0x277b384c2b0>,\n",
       "  <matplotlib.lines.Line2D at 0x277b384d960>,\n",
       "  <matplotlib.lines.Line2D at 0x277b384efe0>,\n",
       "  <matplotlib.lines.Line2D at 0x277dc9c86a0>,\n",
       "  <matplotlib.lines.Line2D at 0x277dc9c9d20>,\n",
       "  <matplotlib.lines.Line2D at 0x277dc9cb3a0>],\n",
       " 'means': [<matplotlib.lines.Line2D at 0x277b37e3fa0>,\n",
       "  <matplotlib.lines.Line2D at 0x277b384d690>,\n",
       "  <matplotlib.lines.Line2D at 0x277b384ed10>,\n",
       "  <matplotlib.lines.Line2D at 0x277dc9c83d0>,\n",
       "  <matplotlib.lines.Line2D at 0x277dc9c9a50>,\n",
       "  <matplotlib.lines.Line2D at 0x277dc9cb0d0>]}"
      ]
     },
     "execution_count": 12,
     "metadata": {},
     "output_type": "execute_result"
    },
    {
     "data": {
      "image/png": "[encoded data removed]",
      "text/plain": [
       "<Figure size 432x288 with 1 Axes>"
      ]
     },
     "metadata": {
      "needs_background": "light"
     },
     "output_type": "display_data"
    }
   ],
   "source": [
    "province_age = pd.crosstab(data['province_name'],data['age_range'])\n",
    "fig, ax = plt.subplots()\n",
    "ax.boxplot((province_age['A'],province_age['B'],province_age['C'],province_age['D'],province_age['E'],province_age['F'])\n",
    "            ,vert=False, showmeans=True, meanline=True,meanprops={'linewidth':2,'color':'red'},\n",
    "          medianprops={'linewidth':2,'color':'purple'}, labels=((24, 32),(33, 41),(42,50),(51,59),(60,68),(69,78)))"
   ]
  },
  {
   "cell_type": "markdown",
   "id": "82197d0e",
   "metadata": {},
   "source": [
    "According to above graph we understand number of observation in three provinces in all ages are somehow outlier in the range of them ages"
   ]
  },
  {
   "cell_type": "code",
   "execution_count": 13,
   "id": "5e49b39e",
   "metadata": {},
   "outputs": [
    {
     "data": {
      "text/plain": [
       "province_name\n",
       "Tehran                        46371\n",
       "esfahan                       40145\n",
       "khorasan razavi               19773\n",
       "fars                          18014\n",
       "khoozestan                    13791\n",
       "kerman                        12246\n",
       "Kermanshah                    10752\n",
       "Alborz                        10636\n",
       "Azarbayjan sharghi            10237\n",
       "markazi                        9518\n",
       "Ghom                           9486\n",
       "Yazd                           9104\n",
       "chaharmahal va bakhtiyari      8994\n",
       "Azarbayjan gharbi              8554\n",
       "Hamedan                        8405\n",
       "lorestan                       7918\n",
       "Sistean va Baloochestan        7550\n",
       "ghazvin                        7405\n",
       "zanjan                         5737\n",
       "Khorasan Jonubi                5043\n",
       "Kordestan                      4981\n",
       "Mazandaran                     4843\n",
       "Golestan                       4565\n",
       "Gilan                          4450\n",
       "Hormozgan                      4434\n",
       "ilam                           4423\n",
       "Kohgilooyeh va booyerahmad     4196\n",
       "Khorasan shomali               3876\n",
       "Ardebil                        3760\n",
       "Semnan                         3132\n",
       "booshehr                       3014\n",
       "Name: A, dtype: int64"
      ]
     },
     "execution_count": 13,
     "metadata": {},
     "output_type": "execute_result"
    }
   ],
   "source": [
    "# so we sort value of one feature and understanding the huge province observation\n",
    "province_age['A'].sort_values(ascending=False)"
   ]
  },
  {
   "cell_type": "code",
   "execution_count": 14,
   "id": "6e4c7608",
   "metadata": {},
   "outputs": [
    {
     "data": {
      "text/plain": [
       "{'whiskers': [<matplotlib.lines.Line2D at 0x277e1d65900>,\n",
       "  <matplotlib.lines.Line2D at 0x277e1d65bd0>],\n",
       " 'caps': [<matplotlib.lines.Line2D at 0x277e1d65ea0>,\n",
       "  <matplotlib.lines.Line2D at 0x277e1d66170>],\n",
       " 'boxes': [<matplotlib.lines.Line2D at 0x277e1d65630>],\n",
       " 'medians': [<matplotlib.lines.Line2D at 0x277e1d66440>],\n",
       " 'fliers': [<matplotlib.lines.Line2D at 0x277e1d669e0>],\n",
       " 'means': [<matplotlib.lines.Line2D at 0x277e1d66710>]}"
      ]
     },
     "execution_count": 14,
     "metadata": {},
     "output_type": "execute_result"
    },
    {
     "data": {
      "text/plain": [
       "<Figure size 720x720 with 0 Axes>"
      ]
     },
     "metadata": {},
     "output_type": "display_data"
    },
    {
     "data": {
      "image/png": "[encoded data removed]",
      "text/plain": [
       "<Figure size 720x720 with 12 Axes>"
      ]
     },
     "metadata": {
      "needs_background": "light"
     },
     "output_type": "display_data"
    }
   ],
   "source": [
    "# Now, checking distributed of two dummies value\n",
    "nationality_age = pd.crosstab(data['nationality'],data['age_range'])\n",
    "plt.rc('figure', figsize=(10, 10))\n",
    "plt.subplots_adjust(wspace=1.5, hspace=5)\n",
    "fig, axes = plt.subplots(3, 2)\n",
    "ax1 = fig.add_subplot(3, 2, 1) \n",
    "ax2 = fig.add_subplot(3, 2, 2)\n",
    "ax3 = fig.add_subplot(3, 2, 3) \n",
    "ax4 = fig.add_subplot(3, 2, 4)\n",
    "ax5 = fig.add_subplot(3, 2, 5)\n",
    "ax6 = fig.add_subplot(3, 2, 6)\n",
    "\n",
    "ax1.boxplot(nationality_age['A'],vert=False, showmeans=True, meanline=True,\n",
    "            meanprops={'linewidth':2,'color':'red'},medianprops={'linewidth':2,'color':'purple'},\n",
    "            labels='A')\n",
    "ax2.boxplot(nationality_age['B'],vert=False, showmeans=True, meanline=True,\n",
    "            meanprops={'linewidth':2,'color':'red'},medianprops={'linewidth':2,'color':'purple'},\n",
    "            labels='B')\n",
    "ax3.boxplot(nationality_age['C'],vert=False, showmeans=True, meanline=True,\n",
    "            meanprops={'linewidth':2,'color':'red'},medianprops={'linewidth':2,'color':'purple'},\n",
    "            labels='C')\n",
    "ax4.boxplot(nationality_age['D'],vert=False, showmeans=True, meanline=True,\n",
    "            meanprops={'linewidth':2,'color':'red'},medianprops={'linewidth':2,'color':'purple'},\n",
    "            labels='D')\n",
    "ax5.boxplot(nationality_age['E'],vert=False, showmeans=True, meanline=True,\n",
    "            meanprops={'linewidth':2,'color':'red'},medianprops={'linewidth':2,'color':'purple'},\n",
    "            labels='E')\n",
    "ax6.boxplot(nationality_age['F'],vert=False, showmeans=True, meanline=True,\n",
    "            meanprops={'linewidth':2,'color':'red'},medianprops={'linewidth':2,'color':'purple'},\n",
    "            labels='F')\n"
   ]
  },
  {
   "cell_type": "markdown",
   "id": "135d5dbf",
   "metadata": {},
   "source": [
    "  Now, before starting part of probability for investigate of other features and catch more information, let do the normalization on feature. one of the famous way is dividing value of each feature with its mean."
   ]
  },
  {
   "cell_type": "code",
   "execution_count": 15,
   "id": "8a0afa2f",
   "metadata": {},
   "outputs": [],
   "source": [
    "data['payment'] = data['payment']/data['payment'].mean()\n",
    "data['data_package'] = data['data_package']/data['data_package'].mean()\n",
    "data['voice'] = data['voice']/data['voice'].mean()\n",
    "data['data'] = data['data']/data['data'].mean()\n",
    "data['sms'] = data['sms']/data['sms'].mean()"
   ]
  },
  {
   "cell_type": "code",
   "execution_count": 16,
   "id": "aab030b9",
   "metadata": {
    "scrolled": true
   },
   "outputs": [
    {
     "data": {
      "text/html": [
       "<div>\n",
       "<style scoped>\n",
       "    .dataframe tbody tr th:only-of-type {\n",
       "        vertical-align: middle;\n",
       "    }\n",
       "\n",
       "    .dataframe tbody tr th {\n",
       "        vertical-align: top;\n",
       "    }\n",
       "\n",
       "    .dataframe thead th {\n",
       "        text-align: right;\n",
       "    }\n",
       "</style>\n",
       "<table border=\"1\" class=\"dataframe\">\n",
       "  <thead>\n",
       "    <tr style=\"text-align: right;\">\n",
       "      <th></th>\n",
       "      <th>age</th>\n",
       "      <th>payment</th>\n",
       "      <th>sms</th>\n",
       "      <th>data</th>\n",
       "      <th>data_package</th>\n",
       "      <th>voice</th>\n",
       "    </tr>\n",
       "  </thead>\n",
       "  <tbody>\n",
       "    <tr>\n",
       "      <th>count</th>\n",
       "      <td>2.546435e+06</td>\n",
       "      <td>2.546435e+06</td>\n",
       "      <td>2.546435e+06</td>\n",
       "      <td>2.546435e+06</td>\n",
       "      <td>2.546435e+06</td>\n",
       "      <td>2.546435e+06</td>\n",
       "    </tr>\n",
       "    <tr>\n",
       "      <th>mean</th>\n",
       "      <td>5.081124e+01</td>\n",
       "      <td>1.000000e+00</td>\n",
       "      <td>1.000000e+00</td>\n",
       "      <td>1.000000e+00</td>\n",
       "      <td>1.000000e+00</td>\n",
       "      <td>1.000000e+00</td>\n",
       "    </tr>\n",
       "    <tr>\n",
       "      <th>std</th>\n",
       "      <td>1.560511e+01</td>\n",
       "      <td>1.412253e+00</td>\n",
       "      <td>3.450518e+00</td>\n",
       "      <td>4.336174e+00</td>\n",
       "      <td>1.857809e+00</td>\n",
       "      <td>1.675597e+00</td>\n",
       "    </tr>\n",
       "    <tr>\n",
       "      <th>min</th>\n",
       "      <td>2.400000e+01</td>\n",
       "      <td>0.000000e+00</td>\n",
       "      <td>0.000000e+00</td>\n",
       "      <td>0.000000e+00</td>\n",
       "      <td>0.000000e+00</td>\n",
       "      <td>0.000000e+00</td>\n",
       "    </tr>\n",
       "    <tr>\n",
       "      <th>25%</th>\n",
       "      <td>3.700000e+01</td>\n",
       "      <td>0.000000e+00</td>\n",
       "      <td>2.422152e-02</td>\n",
       "      <td>0.000000e+00</td>\n",
       "      <td>0.000000e+00</td>\n",
       "      <td>6.177407e-02</td>\n",
       "    </tr>\n",
       "    <tr>\n",
       "      <th>50%</th>\n",
       "      <td>5.100000e+01</td>\n",
       "      <td>4.601483e-01</td>\n",
       "      <td>2.131181e-01</td>\n",
       "      <td>0.000000e+00</td>\n",
       "      <td>0.000000e+00</td>\n",
       "      <td>4.065787e-01</td>\n",
       "    </tr>\n",
       "    <tr>\n",
       "      <th>75%</th>\n",
       "      <td>6.400000e+01</td>\n",
       "      <td>1.503151e+00</td>\n",
       "      <td>7.859963e-01</td>\n",
       "      <td>2.434082e-01</td>\n",
       "      <td>1.523300e+00</td>\n",
       "      <td>1.259493e+00</td>\n",
       "    </tr>\n",
       "    <tr>\n",
       "      <th>max</th>\n",
       "      <td>7.800000e+01</td>\n",
       "      <td>5.027888e+02</td>\n",
       "      <td>6.771948e+02</td>\n",
       "      <td>1.272490e+03</td>\n",
       "      <td>5.128809e+01</td>\n",
       "      <td>1.492647e+02</td>\n",
       "    </tr>\n",
       "  </tbody>\n",
       "</table>\n",
       "</div>"
      ],
      "text/plain": [
       "                age       payment           sms          data  data_package  \\\n",
       "count  2.546435e+06  2.546435e+06  2.546435e+06  2.546435e+06  2.546435e+06   \n",
       "mean   5.081124e+01  1.000000e+00  1.000000e+00  1.000000e+00  1.000000e+00   \n",
       "std    1.560511e+01  1.412253e+00  3.450518e+00  4.336174e+00  1.857809e+00   \n",
       "min    2.400000e+01  0.000000e+00  0.000000e+00  0.000000e+00  0.000000e+00   \n",
       "25%    3.700000e+01  0.000000e+00  2.422152e-02  0.000000e+00  0.000000e+00   \n",
       "50%    5.100000e+01  4.601483e-01  2.131181e-01  0.000000e+00  0.000000e+00   \n",
       "75%    6.400000e+01  1.503151e+00  7.859963e-01  2.434082e-01  1.523300e+00   \n",
       "max    7.800000e+01  5.027888e+02  6.771948e+02  1.272490e+03  5.128809e+01   \n",
       "\n",
       "              voice  \n",
       "count  2.546435e+06  \n",
       "mean   1.000000e+00  \n",
       "std    1.675597e+00  \n",
       "min    0.000000e+00  \n",
       "25%    6.177407e-02  \n",
       "50%    4.065787e-01  \n",
       "75%    1.259493e+00  \n",
       "max    1.492647e+02  "
      ]
     },
     "execution_count": 16,
     "metadata": {},
     "output_type": "execute_result"
    }
   ],
   "source": [
    "data.describe()"
   ]
  },
  {
   "cell_type": "code",
   "execution_count": 17,
   "id": "73e7a331",
   "metadata": {},
   "outputs": [],
   "source": [
    "# remove 'age' feature and keep the 'age_range'\n",
    "data.drop('age', axis = 1, inplace = True)"
   ]
  },
  {
   "cell_type": "code",
   "execution_count": 18,
   "id": "578dd4ca",
   "metadata": {},
   "outputs": [
    {
     "data": {
      "image/png": "[encoded data removed]",
      "text/plain": [
       "<Figure size 1008x576 with 2 Axes>"
      ]
     },
     "metadata": {
      "needs_background": "light"
     },
     "output_type": "display_data"
    }
   ],
   "source": [
    "plt.figure(figsize=(14,8))\n",
    "sns.heatmap(data.corr(),annot=True,cmap='viridis');"
   ]
  },
  {
   "cell_type": "markdown",
   "id": "e88a0ecf",
   "metadata": {},
   "source": [
    "According to heatmap graph, the feature that has the most relation with other is 'payment' and the less one is 'data'. it shows that the most observations are using data_package and don't use PAYG"
   ]
  },
  {
   "cell_type": "markdown",
   "id": "1ed17fb8",
   "metadata": {},
   "source": [
    "#### Payment distribution and calculate some probabilities"
   ]
  },
  {
   "cell_type": "markdown",
   "id": "01afa975",
   "metadata": {},
   "source": [
    "According to describe of data, the distance between 3rd quantile and max is huge so for take acceptable distribution graph the last quarter of information is ommites"
   ]
  },
  {
   "cell_type": "code",
   "execution_count": 19,
   "id": "ca06bea6",
   "metadata": {},
   "outputs": [
    {
     "data": {
      "text/plain": [
       "Text(0.5, 1.0, 'Payments occurence till the 3rd quantile')"
      ]
     },
     "execution_count": 19,
     "metadata": {},
     "output_type": "execute_result"
    },
    {
     "data": {
      "image/png": "[encoded data removed]",
      "text/plain": [
       "<Figure size 720x576 with 1 Axes>"
      ]
     },
     "metadata": {
      "needs_background": "light"
     },
     "output_type": "display_data"
    }
   ],
   "source": [
    "temp = data[data['payment'] <= np.quantile(data['payment'],.75)]['payment']\n",
    "_ , bin_edges = np.histogram(temp, bins = 10)\n",
    "plt.rc('figure', figsize=(10, 8))\n",
    "fig , ax = plt.subplots()\n",
    "ax.hist(temp, bin_edges, cumulative=False)\n",
    "ax.set_xlabel('Payments range till 3rd quantile')\n",
    "ax.set_ylabel('Number of observations')\n",
    "ax.set_title('Payments occurence till the 3rd quantile')"
   ]
  },
  {
   "cell_type": "markdown",
   "id": "67f56265",
   "metadata": {},
   "source": [
    "Based on above histogram of payment distribution, we can get it the range of subscribers that paid less is huge, so in probability part we focus on not paid subscribers as well"
   ]
  },
  {
   "cell_type": "code",
   "execution_count": 20,
   "id": "43e1e76f",
   "metadata": {},
   "outputs": [],
   "source": [
    "def probability(n, s):\n",
    "    return len(pd.merge(n, s, how='inner')) / len(s)\n",
    "\n",
    "def complements(n, s):\n",
    "    return pd.concat([n,s]).drop_duplicates(keep=False)\n",
    "\n",
    "def intersect(a, b):\n",
    "    return pd.merge(a, b, how='inner')\n",
    "\n",
    "def union(a, b):\n",
    "    return pd.merge(a, b, how='outer')\n",
    "\n",
    "def prob_intersect(a, b, s):\n",
    "    return len(pd.merge(a, b, how='inner')) / len(s)"
   ]
  },
  {
   "cell_type": "code",
   "execution_count": 21,
   "id": "cfc684f4",
   "metadata": {},
   "outputs": [],
   "source": [
    "# serial number is usede as unique identifier here so we can use it to create the sample spaces\n",
    "All_observation = data['serial_number']\n",
    "A_NotPaid = data[data['payment'] == 0]['serial_number']\n",
    "A_Paid = complements(A_NotPaid, All_observation)\n",
    "A_lessPaid = data[data['payment'] < data['payment'].mean()]['serial_number']\n",
    "A_lessPaid_without_NotPayment = intersect(A_lessPaid, A_Paid)\n",
    "A_upper_mean = data[data['payment'] >= data['payment'].mean()]['serial_number']\n",
    "A_upper_95 = data[data['payment'] >= np.quantile(data['payment'],.95)]['serial_number']"
   ]
  },
  {
   "cell_type": "code",
   "execution_count": 22,
   "id": "34e8dd23",
   "metadata": {},
   "outputs": [
    {
     "name": "stdout",
     "output_type": "stream",
     "text": [
      "probability the observation that has no payment in next month: 0.25228878805074545\n",
      "probability the observation that payment less than mean exclude no payment of population: 0.40170041646458676\n",
      "probability the observation that payment more than mean of population: 0.3460107954846678\n",
      "probability the observation that payment more than 95% of population: 0.0512233769956822\n"
     ]
    }
   ],
   "source": [
    "Pnot_payment = probability(A_NotPaid, All_observation)\n",
    "Pless_than_mean = probability(A_lessPaid_without_NotPayment, All_observation)\n",
    "Pmore_than_mean = probability(A_upper_mean, All_observation)\n",
    "Pmore_than_95 = probability(A_upper_95, All_observation)\n",
    "Payment_probability = [Pnot_payment, Pless_than_mean, Pmore_than_mean, Pmore_than_95]\n",
    "print('''probability the observation that has no payment in next month: {0}\n",
    "probability the observation that payment less than mean exclude no payment of population: {1}\n",
    "probability the observation that payment more than mean of population: {2}\n",
    "probability the observation that payment more than 95% of population: {3}'''\n",
    ".format(Payment_probability[0],Payment_probability[1],Payment_probability[2],Payment_probability[3]))"
   ]
  },
  {
   "cell_type": "code",
   "execution_count": 23,
   "id": "1affafdc",
   "metadata": {},
   "outputs": [
    {
     "data": {
      "text/plain": [
       "True"
      ]
     },
     "execution_count": 23,
     "metadata": {},
     "output_type": "execute_result"
    }
   ],
   "source": [
    "# check the probability defined functions\n",
    "Payment_probability[0]+Payment_probability[1]+Payment_probability[2] == 1"
   ]
  },
  {
   "cell_type": "markdown",
   "id": "6148d4bc",
   "metadata": {},
   "source": [
    "#### calculate of probability of payment with activation package\n",
    "1. probability of susbcribers that doesn't have payment\n",
    "2. probability of subscribers that have payment less than mean\n",
    "3. probability of subscribers that have payment more than mean\n",
    "\n",
    "because the activation package probability is the independed to other features probability so the conditional probability is not useful here"
   ]
  },
  {
   "cell_type": "code",
   "execution_count": 24,
   "id": "46866fdf",
   "metadata": {},
   "outputs": [],
   "source": [
    "P_act_pa = [0.5, 0.25, 0.15, 0.07, 0.03]\n",
    "probability_table = PrettyTable([\"very low quota\", \"low quota\", \"medium quota\", \"high quota\",\"very high quota\"])\n",
    "s = np.ones((len(Payment_probability), len(P_act_pa)))\n",
    "for i in range(len(Payment_probability)):\n",
    "    for j in range(len(P_act_pa)):\n",
    "        s[i,j] = P_act_pa[j] * Payment_probability[i]\n",
    "        \n",
    "for i in range(len(Payment_probability)):\n",
    "    A = s[i,:].tolist()\n",
    "    probability_table.add_row(A)\n",
    "probability_table.add_column('Payment_probability',['no payment','less than mean exclude no payment','more than mean','more than 95%'])"
   ]
  },
  {
   "cell_type": "code",
   "execution_count": 25,
   "id": "6c2b45aa",
   "metadata": {},
   "outputs": [
    {
     "data": {
      "text/html": [
       "<table>\n",
       "    <thead>\n",
       "        <tr>\n",
       "            <th>very low quota</th>\n",
       "            <th>low quota</th>\n",
       "            <th>medium quota</th>\n",
       "            <th>high quota</th>\n",
       "            <th>very high quota</th>\n",
       "            <th>Payment_probability</th>\n",
       "        </tr>\n",
       "    </thead>\n",
       "    <tbody>\n",
       "        <tr>\n",
       "            <td>0.12614439402537272</td>\n",
       "            <td>0.06307219701268636</td>\n",
       "            <td>0.03784331820761182</td>\n",
       "            <td>0.017660215163552182</td>\n",
       "            <td>0.007568663641522363</td>\n",
       "            <td>no payment</td>\n",
       "        </tr>\n",
       "        <tr>\n",
       "            <td>0.20085020823229338</td>\n",
       "            <td>0.10042510411614669</td>\n",
       "            <td>0.06025506246968801</td>\n",
       "            <td>0.028119029152521076</td>\n",
       "            <td>0.012051012493937602</td>\n",
       "            <td>less than mean exclude no payment</td>\n",
       "        </tr>\n",
       "        <tr>\n",
       "            <td>0.1730053977423339</td>\n",
       "            <td>0.08650269887116695</td>\n",
       "            <td>0.05190161932270017</td>\n",
       "            <td>0.02422075568392675</td>\n",
       "            <td>0.010380323864540034</td>\n",
       "            <td>more than mean</td>\n",
       "        </tr>\n",
       "        <tr>\n",
       "            <td>0.0256116884978411</td>\n",
       "            <td>0.01280584424892055</td>\n",
       "            <td>0.007683506549352329</td>\n",
       "            <td>0.0035856363896977542</td>\n",
       "            <td>0.0015367013098704658</td>\n",
       "            <td>more than 95%</td>\n",
       "        </tr>\n",
       "    </tbody>\n",
       "</table>"
      ],
      "text/plain": [
       "+---------------------+---------------------+----------------------+-----------------------+-----------------------+-----------------------------------+\n",
       "|    very low quota   |      low quota      |     medium quota     |       high quota      |    very high quota    |        Payment_probability        |\n",
       "+---------------------+---------------------+----------------------+-----------------------+-----------------------+-----------------------------------+\n",
       "| 0.12614439402537272 | 0.06307219701268636 | 0.03784331820761182  |  0.017660215163552182 |  0.007568663641522363 |             no payment            |\n",
       "| 0.20085020823229338 | 0.10042510411614669 | 0.06025506246968801  |  0.028119029152521076 |  0.012051012493937602 | less than mean exclude no payment |\n",
       "|  0.1730053977423339 | 0.08650269887116695 | 0.05190161932270017  |  0.02422075568392675  |  0.010380323864540034 |           more than mean          |\n",
       "|  0.0256116884978411 | 0.01280584424892055 | 0.007683506549352329 | 0.0035856363896977542 | 0.0015367013098704658 |           more than 95%           |\n",
       "+---------------------+---------------------+----------------------+-----------------------+-----------------------+-----------------------------------+"
      ]
     },
     "execution_count": 25,
     "metadata": {},
     "output_type": "execute_result"
    }
   ],
   "source": [
    "probability_table"
   ]
  },
  {
   "cell_type": "markdown",
   "id": "1033fc70",
   "metadata": {},
   "source": [
    "#### next calculate of probability of payment with usage of services\n",
    "    we want to find two different conditional probabilities\n",
    "    1. based on subscribers payment\n",
    "    2. based on usage"
   ]
  },
  {
   "cell_type": "markdown",
   "id": "474c1e2c",
   "metadata": {},
   "source": [
    "Before that looking to usage distribution"
   ]
  },
  {
   "cell_type": "code",
   "execution_count": 26,
   "id": "6e13e574",
   "metadata": {},
   "outputs": [
    {
     "data": {
      "text/plain": [
       "Text(0.5, 1.0, 'Data occurence till the 3rd quantile')"
      ]
     },
     "execution_count": 26,
     "metadata": {},
     "output_type": "execute_result"
    },
    {
     "data": {
      "text/plain": [
       "<Figure size 1440x1440 with 0 Axes>"
      ]
     },
     "metadata": {},
     "output_type": "display_data"
    },
    {
     "data": {
      "image/png": "[encoded data removed]",
      "text/plain": [
       "<Figure size 1440x1440 with 8 Axes>"
      ]
     },
     "metadata": {
      "needs_background": "light"
     },
     "output_type": "display_data"
    }
   ],
   "source": [
    "plt.rc('figure', figsize=(20, 20))\n",
    "plt.subplots_adjust(wspace=1.5, hspace=5)\n",
    "fig, axes = plt.subplots(2, 2)\n",
    "ax1 = fig.add_subplot(2, 2, 1) \n",
    "ax2 = fig.add_subplot(2, 2, 2)\n",
    "ax3 = fig.add_subplot(2, 2, 3) \n",
    "ax4 = fig.add_subplot(2, 2, 4)\n",
    "\n",
    "temp1 = data[data['voice'] <= np.quantile(data['voice'],.75)]['voice']\n",
    "_ , bin_edges = np.histogram(temp, bins = 10)\n",
    "\n",
    "ax1.hist(temp1, bin_edges, cumulative=False)\n",
    "ax1.set_xlabel('Voice range till 3rd quantile')\n",
    "ax1.set_ylabel('Number of observations')\n",
    "ax1.set_title('Voice occurence till the 3rd quantile')\n",
    "\n",
    "temp2 = data[data['sms'] <= np.quantile(data['sms'],.75)]['sms']\n",
    "_ , bin_edges = np.histogram(temp, bins = 10)\n",
    "\n",
    "ax2.hist(temp2, bin_edges, cumulative=False)\n",
    "ax2.set_xlabel('SMS range till 3rd quantile')\n",
    "ax2.set_ylabel('Number of observations')\n",
    "ax2.set_title('SMS occurence till the 3rd quantile')\n",
    "\n",
    "temp3 = data[data['data_package'] <= np.quantile(data['data_package'],.75)]['data_package']\n",
    "_ , bin_edges = np.histogram(temp, bins = 10)\n",
    "\n",
    "ax3.hist(temp3, bin_edges, cumulative=False)\n",
    "ax3.set_xlabel('data_package range till 3rd quantile')\n",
    "ax3.set_ylabel('Number of observations')\n",
    "ax3.set_title('data_package occurence till the 3rd quantile')\n",
    "\n",
    "temp4 = data[data['voice'] <= np.quantile(data['voice'],.75)]['voice']\n",
    "_ , bin_edges = np.histogram(temp, bins = 10)\n",
    "\n",
    "ax4.hist(temp4, bin_edges, cumulative=False)\n",
    "ax4.set_xlabel('Data range till 3rd quantile')\n",
    "ax4.set_ylabel('Number of observations')\n",
    "ax4.set_title('Data occurence till the 3rd quantile')"
   ]
  },
  {
   "cell_type": "markdown",
   "id": "b54ad624",
   "metadata": {},
   "source": [
    "Output of usage shows that, the data doesn't have normal distribution"
   ]
  },
  {
   "cell_type": "markdown",
   "id": "74ded6b4",
   "metadata": {},
   "source": [
    "#### in this step we separate the usage range to\n",
    "1. less than first quantile\n",
    "2. between first quantile and median\n",
    "3. between median and third quantile\n",
    "4. between third quantile and 0.95 of usage\n",
    "\n",
    "according to describe table and above information the 0.95 of information are included most of them and no need to include outliers of last 5%"
   ]
  },
  {
   "cell_type": "code",
   "execution_count": 27,
   "id": "d7eeb121",
   "metadata": {},
   "outputs": [],
   "source": [
    "All_observation = data['serial_number']\n",
    "# less than first quantile # because there is large group of subscribers without payment so \n",
    "A_P_l_1q = data[data['payment'] <= np.quantile(data['payment'],.25)]['serial_number']\n",
    "# between first quantile and median\n",
    "A_P_l_median = data[data['payment'] < np.quantile(data['payment'],.5)]['serial_number']\n",
    "A_P_l_median_g_1q = intersect(A_P_l_median, complements(A_P_l_1q, All_observation))\n",
    "# between median and third quantile\n",
    "A_P_g_median = complements(A_P_l_median, All_observation)\n",
    "A_P_l_3q = data[data['payment'] < np.quantile(data['payment'],.75)]['serial_number']\n",
    "A_P_g_median_1_3q = intersect(A_P_l_3q, A_P_g_median)\n",
    "# between third quantile and 0.95 of usage\n",
    "A_P_g_3q = complements(A_P_l_3q, All_observation)\n",
    "A_P_l_95 = data[data['payment'] < np.quantile(data['payment'],.95)]['serial_number']\n",
    "A_P_l_95_g_3q = intersect(A_P_g_3q, A_P_l_95)\n",
    "\n",
    "A_Payment_observation = [A_P_l_1q, A_P_l_median_g_1q, A_P_g_median_1_3q, A_P_l_95_g_3q]\n"
   ]
  },
  {
   "cell_type": "code",
   "execution_count": 28,
   "id": "c7e7cac3",
   "metadata": {},
   "outputs": [
    {
     "name": "stdout",
     "output_type": "stream",
     "text": [
      "probability the observation that has usage of voice lesser than 1q in next month: 0.2500315146469476\n",
      "probability the observation that has usage of voice lesser than median greater than 1q: 0.24996828900011192\n",
      "probability the observation that has usage of voice lesser than 3q greater than median: 0.24999774194118443\n",
      "probability the observation that has usage of voice lesser than 95% greater than 3q: 0.1999988218823571\n"
     ]
    }
   ],
   "source": [
    "All_observation = data['serial_number']\n",
    "# less than first quantile\n",
    "A_V_l_1q = data[data['voice'] <= np.quantile(data['voice'],.25)]['serial_number']\n",
    "# between first quantile and median\n",
    "A_V_l_median = data[data['voice'] < np.quantile(data['voice'],.5)]['serial_number']\n",
    "A_V_l_median_g_1q = intersect(A_V_l_median, complements(A_V_l_1q, All_observation))\n",
    "# between median and third quantile\n",
    "A_V_g_median = complements(A_V_l_median, All_observation)\n",
    "A_V_l_3q = data[data['voice'] < np.quantile(data['voice'],.75)]['serial_number']\n",
    "A_V_g_median_1_3q = intersect(A_V_l_3q, A_V_g_median)\n",
    "# between third quantile and 0.95 of usage\n",
    "A_V_g_3q = complements(A_V_l_3q, All_observation)\n",
    "A_V_l_95 = data[data['voice'] < np.quantile(data['voice'],.95)]['serial_number']\n",
    "A_V_l_95_g_3q = intersect(A_V_g_3q, A_V_l_95)\n",
    "\n",
    "A_Voice_observation = [A_V_l_1q, A_V_l_median_g_1q, A_V_g_median_1_3q, A_V_l_95_g_3q]\n",
    "\n",
    "# addition the probability of different of voice usage\n",
    "P_l_1q = probability(A_V_l_1q,All_observation)\n",
    "P_l_median_g_1q = probability(A_V_l_median_g_1q,All_observation)\n",
    "P_l_3q_g_median = probability(A_V_g_median_1_3q,All_observation)\n",
    "P_l_95_g_3q = probability(A_V_l_95_g_3q,All_observation)\n",
    "\n",
    "Probability_Voice = [P_l_1q, P_l_median_g_1q, P_l_3q_g_median, P_l_95_g_3q]\n",
    "print('''probability the observation that has usage of voice lesser than 1q in next month: {0}\n",
    "probability the observation that has usage of voice lesser than median greater than 1q: {1}\n",
    "probability the observation that has usage of voice lesser than 3q greater than median: {2}\n",
    "probability the observation that has usage of voice lesser than 95% greater than 3q: {3}'''\n",
    ".format(Probability_Voice[0],Probability_Voice[1],Probability_Voice[2],Probability_Voice[3]))"
   ]
  },
  {
   "cell_type": "code",
   "execution_count": 29,
   "id": "b3973f73",
   "metadata": {},
   "outputs": [],
   "source": [
    "Payment_Voice = PrettyTable(['less than first quantile', 'between first quantile and median',\n",
    "                             'between median and third quantile', 'between third quantile and 0.95 of usage'])\n",
    "s = np.ones((len(A_Payment_observation), len(A_Voice_observation)))\n",
    "for i in range(len(A_Payment_observation)):\n",
    "    for j in range(len(A_Voice_observation)):\n",
    "        s[i,j] = prob_intersect(A_Payment_observation[i],A_Voice_observation[j],All_observation)/Probability_Voice[i]\n",
    "\n",
    "for i in range(len(A_Payment_observation)):\n",
    "    A = s[i,:].tolist()\n",
    "    Payment_Voice.add_row(A)\n",
    "Payment_Voice.add_column('A_Voice_observation',['less than first quantile', 'between first quantile and median',\n",
    "                             'between median and third quantile', 'between third quantile and 0.95 of usage'])"
   ]
  },
  {
   "cell_type": "code",
   "execution_count": 30,
   "id": "0f51420c",
   "metadata": {},
   "outputs": [
    {
     "data": {
      "text/html": [
       "<table>\n",
       "    <thead>\n",
       "        <tr>\n",
       "            <th>less than first quantile</th>\n",
       "            <th>between first quantile and median</th>\n",
       "            <th>between median and third quantile</th>\n",
       "            <th>between third quantile and 0.95 of usage</th>\n",
       "            <th>A_Voice_observation</th>\n",
       "        </tr>\n",
       "    </thead>\n",
       "    <tbody>\n",
       "        <tr>\n",
       "            <td>0.6147522573815473</td>\n",
       "            <td>0.20843300261195022</td>\n",
       "            <td>0.11128510151738132</td>\n",
       "            <td>0.06068739997078636</td>\n",
       "            <td>less than first quantile</td>\n",
       "        </tr>\n",
       "        <tr>\n",
       "            <td>0.18197785486262977</td>\n",
       "            <td>0.32551435286428876</td>\n",
       "            <td>0.3220313953196089</td>\n",
       "            <td>0.0983271749239625</td>\n",
       "            <td>between first quantile and median</td>\n",
       "        </tr>\n",
       "        <tr>\n",
       "            <td>0.13504020559123975</td>\n",
       "            <td>0.2702453491422441</td>\n",
       "            <td>0.29245856522825053</td>\n",
       "            <td>0.3192444898940156</td>\n",
       "            <td>between median and third quantile</td>\n",
       "        </tr>\n",
       "        <tr>\n",
       "            <td>0.07302016163869275</td>\n",
       "            <td>0.2070082704345709</td>\n",
       "            <td>0.2819644834709121</td>\n",
       "            <td>0.31843725701180486</td>\n",
       "            <td>between third quantile and 0.95 of usage</td>\n",
       "        </tr>\n",
       "    </tbody>\n",
       "</table>"
      ],
      "text/plain": [
       "+--------------------------+-----------------------------------+-----------------------------------+------------------------------------------+------------------------------------------+\n",
       "| less than first quantile | between first quantile and median | between median and third quantile | between third quantile and 0.95 of usage |           A_Voice_observation            |\n",
       "+--------------------------+-----------------------------------+-----------------------------------+------------------------------------------+------------------------------------------+\n",
       "|    0.6147522573815473    |        0.20843300261195022        |        0.11128510151738132        |           0.06068739997078636            |         less than first quantile         |\n",
       "|   0.18197785486262977    |        0.32551435286428876        |         0.3220313953196089        |            0.0983271749239625            |    between first quantile and median     |\n",
       "|   0.13504020559123975    |         0.2702453491422441        |        0.29245856522825053        |            0.3192444898940156            |    between median and third quantile     |\n",
       "|   0.07302016163869275    |         0.2070082704345709        |         0.2819644834709121        |           0.31843725701180486            | between third quantile and 0.95 of usage |\n",
       "+--------------------------+-----------------------------------+-----------------------------------+------------------------------------------+------------------------------------------+"
      ]
     },
     "execution_count": 30,
     "metadata": {},
     "output_type": "execute_result"
    }
   ],
   "source": [
    "Payment_Voice"
   ]
  },
  {
   "cell_type": "code",
   "execution_count": 31,
   "id": "2584edc5",
   "metadata": {},
   "outputs": [],
   "source": [
    "Voice_payment = PrettyTable(['less than first quantile', 'between first quantile and median',\n",
    "                             'between median and third quantile', 'between third quantile and 0.95 of usage'])\n",
    "s = np.ones((len(A_Payment_observation), len(A_Voice_observation)))\n",
    "for i in range(len(A_Payment_observation)):\n",
    "    for j in range(len(A_Voice_observation)):\n",
    "        s[i,j] = prob_intersect(A_Payment_observation[i],A_Voice_observation[j],All_observation)/probability(A_Payment_observation[i],All_observation)\n",
    "\n",
    "for i in range(len(A_Payment_observation)):\n",
    "    A = s[i,:].tolist()\n",
    "    Voice_payment.add_row(A)\n",
    "Voice_payment.add_column('A_Voice_observation',['less than first quantile', 'between first quantile and median',\n",
    "                             'between median and third quantile', 'between third quantile and 0.95 of usage'])"
   ]
  },
  {
   "cell_type": "code",
   "execution_count": 32,
   "id": "f360789d",
   "metadata": {},
   "outputs": [
    {
     "data": {
      "text/html": [
       "<table>\n",
       "    <thead>\n",
       "        <tr>\n",
       "            <th>less than first quantile</th>\n",
       "            <th>between first quantile and median</th>\n",
       "            <th>between median and third quantile</th>\n",
       "            <th>between third quantile and 0.95 of usage</th>\n",
       "            <th>A_Voice_observation</th>\n",
       "        </tr>\n",
       "    </thead>\n",
       "    <tbody>\n",
       "        <tr>\n",
       "            <td>0.6092519577795177</td>\n",
       "            <td>0.20656811485017207</td>\n",
       "            <td>0.11028941359230555</td>\n",
       "            <td>0.060144418830173234</td>\n",
       "            <td>less than first quantile</td>\n",
       "        </tr>\n",
       "        <tr>\n",
       "            <td>0.1957267051358955</td>\n",
       "            <td>0.3501077194731461</td>\n",
       "            <td>0.3463616163834982</td>\n",
       "            <td>0.10575602172976352</td>\n",
       "            <td>between first quantile and median</td>\n",
       "        </tr>\n",
       "        <tr>\n",
       "            <td>0.12730363650633578</td>\n",
       "            <td>0.25476276153539734</td>\n",
       "            <td>0.275703363438873</td>\n",
       "            <td>0.30095469952953613</td>\n",
       "            <td>between median and third quantile</td>\n",
       "        </tr>\n",
       "        <tr>\n",
       "            <td>0.07342804395257228</td>\n",
       "            <td>0.20816459507754884</td>\n",
       "            <td>0.2835395049905717</td>\n",
       "            <td>0.32021601129419197</td>\n",
       "            <td>between third quantile and 0.95 of usage</td>\n",
       "        </tr>\n",
       "    </tbody>\n",
       "</table>"
      ],
      "text/plain": [
       "+--------------------------+-----------------------------------+-----------------------------------+------------------------------------------+------------------------------------------+\n",
       "| less than first quantile | between first quantile and median | between median and third quantile | between third quantile and 0.95 of usage |           A_Voice_observation            |\n",
       "+--------------------------+-----------------------------------+-----------------------------------+------------------------------------------+------------------------------------------+\n",
       "|    0.6092519577795177    |        0.20656811485017207        |        0.11028941359230555        |           0.060144418830173234           |         less than first quantile         |\n",
       "|    0.1957267051358955    |         0.3501077194731461        |         0.3463616163834982        |           0.10575602172976352            |    between first quantile and median     |\n",
       "|   0.12730363650633578    |        0.25476276153539734        |         0.275703363438873         |           0.30095469952953613            |    between median and third quantile     |\n",
       "|   0.07342804395257228    |        0.20816459507754884        |         0.2835395049905717        |           0.32021601129419197            | between third quantile and 0.95 of usage |\n",
       "+--------------------------+-----------------------------------+-----------------------------------+------------------------------------------+------------------------------------------+"
      ]
     },
     "execution_count": 32,
     "metadata": {},
     "output_type": "execute_result"
    }
   ],
   "source": [
    "Voice_payment"
   ]
  },
  {
   "cell_type": "code",
   "execution_count": 33,
   "id": "fb054883",
   "metadata": {},
   "outputs": [
    {
     "name": "stdout",
     "output_type": "stream",
     "text": [
      "probability the observation that has usage of sms lesser than 1q in next month: 0.25394482875078295\n",
      "probability the observation that has usage of sms lesser than median greater than 1q: 0.24528802031074817\n",
      "probability the observation that has usage of sms lesser than 3q greater than median: 0.25076587464435574\n",
      "probability the observation that has usage of sms lesser than 95% greater than 3q: 0.19999921458823808\n"
     ]
    }
   ],
   "source": [
    "All_observation = data['serial_number']\n",
    "# less than first quantile\n",
    "A_S_l_1q = data[data['sms'] <= np.quantile(data['sms'],.25)]['serial_number']\n",
    "# between first quantile and median\n",
    "A_S_l_median = data[data['sms'] < np.quantile(data['sms'],.5)]['serial_number']\n",
    "A_S_l_median_g_1q = intersect(A_S_l_median, complements(A_S_l_1q, All_observation))\n",
    "# between median and third quantile\n",
    "A_S_g_median = complements(A_S_l_median, All_observation)\n",
    "A_S_l_3q = data[data['sms'] < np.quantile(data['sms'],.75)]['serial_number']\n",
    "A_S_g_median_1_3q = intersect(A_S_l_3q, A_S_g_median)\n",
    "# between third quantile and 0.95 of usage\n",
    "A_S_g_3q = complements(A_S_l_3q, All_observation)\n",
    "A_S_l_95 = data[data['sms'] < np.quantile(data['sms'],.95)]['serial_number']\n",
    "A_S_l_95_g_3q = intersect(A_S_g_3q, A_S_l_95)\n",
    "\n",
    "A_SMS_observation = [A_S_l_1q, A_S_l_median_g_1q, A_S_g_median_1_3q, A_S_l_95_g_3q]\n",
    "\n",
    "# addition the probability of different of sms usage\n",
    "P_l_1q = probability(A_S_l_1q,All_observation)\n",
    "P_l_median_g_1q = probability(A_S_l_median_g_1q,All_observation)\n",
    "P_l_3q_g_median = probability(A_S_g_median_1_3q,All_observation)\n",
    "P_l_95_g_3q = probability(A_S_l_95_g_3q,All_observation)\n",
    "\n",
    "Probability_SMS = [P_l_1q, P_l_median_g_1q, P_l_3q_g_median, P_l_95_g_3q]\n",
    "print('''probability the observation that has usage of sms lesser than 1q in next month: {0}\n",
    "probability the observation that has usage of sms lesser than median greater than 1q: {1}\n",
    "probability the observation that has usage of sms lesser than 3q greater than median: {2}\n",
    "probability the observation that has usage of sms lesser than 95% greater than 3q: {3}'''\n",
    ".format(Probability_SMS[0],Probability_SMS[1],Probability_SMS[2],Probability_SMS[3]))"
   ]
  },
  {
   "cell_type": "code",
   "execution_count": 34,
   "id": "a3f8933d",
   "metadata": {},
   "outputs": [],
   "source": [
    "Payment_SMS = PrettyTable(['less than first quantile', 'between first quantile and median',\n",
    "                             'between median and third quantile', 'between third quantile and 0.95 of usage'])\n",
    "s = np.ones((len(A_Payment_observation), len(A_SMS_observation)))\n",
    "for i in range(len(A_Payment_observation)):\n",
    "    for j in range(len(A_SMS_observation)):\n",
    "        s[i,j] = prob_intersect(A_Payment_observation[i],A_SMS_observation[j],All_observation)/Probability_SMS[i]\n",
    "\n",
    "for i in range(len(A_Payment_observation)):\n",
    "    A = s[i,:].tolist()\n",
    "    Payment_SMS.add_row(A)\n",
    "Payment_SMS.add_column('A_SMS_observation',['less than first quantile', 'between first quantile and median',\n",
    "                             'between median and third quantile', 'between third quantile and 0.95 of usage'])"
   ]
  },
  {
   "cell_type": "code",
   "execution_count": 43,
   "id": "6934a376",
   "metadata": {},
   "outputs": [
    {
     "data": {
      "text/html": [
       "<table>\n",
       "    <thead>\n",
       "        <tr>\n",
       "            <th>less than first quantile</th>\n",
       "            <th>between first quantile and median</th>\n",
       "            <th>between median and third quantile</th>\n",
       "            <th>between third quantile and 0.95 of usage</th>\n",
       "            <th>A_SMS_observation</th>\n",
       "        </tr>\n",
       "    </thead>\n",
       "    <tbody>\n",
       "        <tr>\n",
       "            <td>0.5795015572469976</td>\n",
       "            <td>0.20062506378990927</td>\n",
       "            <td>0.1334376652738559</td>\n",
       "            <td>0.07041942058658882</td>\n",
       "            <td>less than first quantile</td>\n",
       "        </tr>\n",
       "        <tr>\n",
       "            <td>0.19744000256159844</td>\n",
       "            <td>0.3071980916091641</td>\n",
       "            <td>0.2710347256688173</td>\n",
       "            <td>0.15340612542226348</td>\n",
       "            <td>between first quantile and median</td>\n",
       "        </tr>\n",
       "        <tr>\n",
       "            <td>0.1425929318982271</td>\n",
       "            <td>0.26624164720879356</td>\n",
       "            <td>0.3153021099068371</td>\n",
       "            <td>0.27085985789880024</td>\n",
       "            <td>between median and third quantile</td>\n",
       "        </tr>\n",
       "        <tr>\n",
       "            <td>0.09366857457023081</td>\n",
       "            <td>0.21451446635970037</td>\n",
       "            <td>0.2888893252304702</td>\n",
       "            <td>0.2987914429052495</td>\n",
       "            <td>between third quantile and 0.95 of usage</td>\n",
       "        </tr>\n",
       "    </tbody>\n",
       "</table>"
      ],
      "text/plain": [
       "+--------------------------+-----------------------------------+-----------------------------------+------------------------------------------+------------------------------------------+\n",
       "| less than first quantile | between first quantile and median | between median and third quantile | between third quantile and 0.95 of usage |            A_SMS_observation             |\n",
       "+--------------------------+-----------------------------------+-----------------------------------+------------------------------------------+------------------------------------------+\n",
       "|    0.5795015572469976    |        0.20062506378990927        |         0.1334376652738559        |           0.07041942058658882            |         less than first quantile         |\n",
       "|   0.19744000256159844    |         0.3071980916091641        |         0.2710347256688173        |           0.15340612542226348            |    between first quantile and median     |\n",
       "|    0.1425929318982271    |        0.26624164720879356        |         0.3153021099068371        |           0.27085985789880024            |    between median and third quantile     |\n",
       "|   0.09366857457023081    |        0.21451446635970037        |         0.2888893252304702        |            0.2987914429052495            | between third quantile and 0.95 of usage |\n",
       "+--------------------------+-----------------------------------+-----------------------------------+------------------------------------------+------------------------------------------+"
      ]
     },
     "execution_count": 43,
     "metadata": {},
     "output_type": "execute_result"
    }
   ],
   "source": [
    "Payment_SMS"
   ]
  },
  {
   "cell_type": "code",
   "execution_count": 44,
   "id": "42021291",
   "metadata": {},
   "outputs": [],
   "source": [
    "SMS_payment = PrettyTable(['less than first quantile', 'between first quantile and median',\n",
    "                             'between median and third quantile', 'between third quantile and 0.95 of usage'])\n",
    "s = np.ones((len(A_Payment_observation), len(A_SMS_observation)))\n",
    "for i in range(len(A_Payment_observation)):\n",
    "    for j in range(len(A_SMS_observation)):\n",
    "        s[i,j] = prob_intersect(A_Payment_observation[i],A_SMS_observation[j],All_observation)/probability(A_Payment_observation[i],All_observation)\n",
    "\n",
    "for i in range(len(A_Payment_observation)):\n",
    "    A = s[i,:].tolist()\n",
    "    SMS_payment.add_row(A)\n",
    "SMS_payment.add_column('A_SMS_observation',['less than first quantile', 'between first quantile and median',\n",
    "                             'between median and third quantile', 'between third quantile and 0.95 of usage'])"
   ]
  },
  {
   "cell_type": "code",
   "execution_count": 45,
   "id": "d8ca4e43",
   "metadata": {},
   "outputs": [
    {
     "data": {
      "text/html": [
       "<table>\n",
       "    <thead>\n",
       "        <tr>\n",
       "            <th>less than first quantile</th>\n",
       "            <th>between first quantile and median</th>\n",
       "            <th>between median and third quantile</th>\n",
       "            <th>between third quantile and 0.95 of usage</th>\n",
       "            <th>A_SMS_observation</th>\n",
       "        </tr>\n",
       "    </thead>\n",
       "    <tbody>\n",
       "        <tr>\n",
       "            <td>0.5833054447362154</td>\n",
       "            <td>0.201941980303127</td>\n",
       "            <td>0.13431355915054705</td>\n",
       "            <td>0.07088165843499052</td>\n",
       "            <td>less than first quantile</td>\n",
       "        </tr>\n",
       "        <tr>\n",
       "            <td>0.2083809974400784</td>\n",
       "            <td>0.32422125157354914</td>\n",
       "            <td>0.28605391887667597</td>\n",
       "            <td>0.161907014861063</td>\n",
       "            <td>between first quantile and median</td>\n",
       "        </tr>\n",
       "        <tr>\n",
       "            <td>0.13483668522163036</td>\n",
       "            <td>0.2517596117821798</td>\n",
       "            <td>0.2981514635912518</td>\n",
       "            <td>0.25612661800616326</td>\n",
       "            <td>between median and third quantile</td>\n",
       "        </tr>\n",
       "        <tr>\n",
       "            <td>0.09419198151859494</td>\n",
       "            <td>0.21571314331974212</td>\n",
       "            <td>0.29050359854281227</td>\n",
       "            <td>0.3004610478719728</td>\n",
       "            <td>between third quantile and 0.95 of usage</td>\n",
       "        </tr>\n",
       "    </tbody>\n",
       "</table>"
      ],
      "text/plain": [
       "+--------------------------+-----------------------------------+-----------------------------------+------------------------------------------+------------------------------------------+\n",
       "| less than first quantile | between first quantile and median | between median and third quantile | between third quantile and 0.95 of usage |            A_SMS_observation             |\n",
       "+--------------------------+-----------------------------------+-----------------------------------+------------------------------------------+------------------------------------------+\n",
       "|    0.5833054447362154    |         0.201941980303127         |        0.13431355915054705        |           0.07088165843499052            |         less than first quantile         |\n",
       "|    0.2083809974400784    |        0.32422125157354914        |        0.28605391887667597        |            0.161907014861063             |    between first quantile and median     |\n",
       "|   0.13483668522163036    |         0.2517596117821798        |         0.2981514635912518        |           0.25612661800616326            |    between median and third quantile     |\n",
       "|   0.09419198151859494    |        0.21571314331974212        |        0.29050359854281227        |            0.3004610478719728            | between third quantile and 0.95 of usage |\n",
       "+--------------------------+-----------------------------------+-----------------------------------+------------------------------------------+------------------------------------------+"
      ]
     },
     "execution_count": 45,
     "metadata": {},
     "output_type": "execute_result"
    }
   ],
   "source": [
    "SMS_payment"
   ]
  },
  {
   "cell_type": "code",
   "execution_count": 46,
   "id": "2055b3c5",
   "metadata": {},
   "outputs": [
    {
     "name": "stdout",
     "output_type": "stream",
     "text": [
      "probability the observation that has usage of data_package lesser than 1q in next month: 0.5042779415143132\n",
      "probability the observation that has usage of data_package lesser than median greater than 1q: 0.0\n",
      "probability the observation that has usage of data_package lesser than 3q greater than median: 0.7497018380598759\n",
      "probability the observation that has usage of data_package lesser than 95% greater than 3q: 0.2002980637636539\n"
     ]
    }
   ],
   "source": [
    "All_observation = data['serial_number']\n",
    "# less than first quantile\n",
    "A_DP_l_1q = data[data['data_package'] <= np.quantile(data['data_package'],.25)]['serial_number']\n",
    "# between first quantile and median\n",
    "A_DP_l_median = data[data['data_package'] < np.quantile(data['data_package'],.5)]['serial_number']\n",
    "A_DP_l_median_g_1q = intersect(A_DP_l_median, complements(A_DP_l_1q, All_observation))\n",
    "# between median and third quantile\n",
    "A_DP_g_median = complements(A_DP_l_median, All_observation)\n",
    "A_DP_l_3q = data[data['data_package'] < np.quantile(data['data_package'],.75)]['serial_number']\n",
    "A_DP_g_median_1_3q = intersect(A_DP_l_3q, A_DP_g_median)\n",
    "# between third quantile and 0.95 of usage\n",
    "A_DP_g_3q = complements(A_DP_l_3q, All_observation)\n",
    "A_DP_l_95 = data[data['data_package'] < np.quantile(data['data_package'],.95)]['serial_number']\n",
    "A_DP_l_95_g_3q = intersect(A_DP_g_3q, A_DP_l_95)\n",
    "\n",
    "A_data_package_observation = [A_DP_l_1q, A_DP_l_median_g_1q, A_DP_g_median_1_3q, A_DP_l_95_g_3q]\n",
    "\n",
    "# addition the probability of different of data_package usage\n",
    "P_l_1q = probability(A_DP_l_1q,All_observation)\n",
    "P_l_median_g_1q = probability(A_DP_l_median_g_1q,All_observation)\n",
    "P_l_3q_g_median = probability(A_DP_g_median_1_3q,All_observation)\n",
    "P_l_95_g_3q = probability(A_DP_l_95_g_3q,All_observation)\n",
    "\n",
    "Probability_data_package = [P_l_1q, P_l_median_g_1q, P_l_3q_g_median, P_l_95_g_3q]\n",
    "print('''probability the observation that has usage of data_package lesser than 1q in next month: {0}\n",
    "probability the observation that has usage of data_package lesser than median greater than 1q: {1}\n",
    "probability the observation that has usage of data_package lesser than 3q greater than median: {2}\n",
    "probability the observation that has usage of data_package lesser than 95% greater than 3q: {3}'''\n",
    ".format(Probability_data_package[0],Probability_data_package[1],Probability_data_package[2],Probability_data_package[3]))"
   ]
  },
  {
   "cell_type": "code",
   "execution_count": 47,
   "id": "48a6d4ab",
   "metadata": {},
   "outputs": [],
   "source": [
    "# according to above result that shows the most than 50% of subsribers doesn't have any data_package usage, we need to omit\n",
    "A_DP_observation = [A_DP_l_1q, A_DP_g_median_1_3q, A_DP_l_95_g_3q]\n",
    "Probability_DP = [P_l_1q, P_l_3q_g_median, P_l_95_g_3q]\n",
    "Payment_DP = PrettyTable(['less than first quantile', 'between first quantile and median',\n",
    "                             'between median and third quantile', 'between third quantile and 0.95 of usage'])\n",
    "s = np.ones((len(A_DP_observation), len(A_Payment_observation)))\n",
    "for i in range(len(A_DP_observation)):\n",
    "    for j in range(len(A_Payment_observation)):\n",
    "        s[i,j] = prob_intersect(A_Payment_observation[j],A_DP_observation[i],All_observation)/Probability_DP[i]\n",
    "\n",
    "for i in range(len(A_DP_observation)):\n",
    "    A = s[i,:].tolist()\n",
    "    Payment_DP.add_row(A)\n",
    "Payment_DP.add_column('A_DataPackage_observation',['less than first quantile', 'between median and third quantile',\n",
    "                                           'between third quantile and 0.95 of usage'])"
   ]
  },
  {
   "cell_type": "code",
   "execution_count": 48,
   "id": "44400cf4",
   "metadata": {},
   "outputs": [
    {
     "data": {
      "text/html": [
       "<table>\n",
       "    <thead>\n",
       "        <tr>\n",
       "            <th>less than first quantile</th>\n",
       "            <th>between first quantile and median</th>\n",
       "            <th>between median and third quantile</th>\n",
       "            <th>between third quantile and 0.95 of usage</th>\n",
       "            <th>A_DataPackage_observation</th>\n",
       "        </tr>\n",
       "    </thead>\n",
       "    <tbody>\n",
       "        <tr>\n",
       "            <td>0.4227562882024996</td>\n",
       "            <td>0.3236550422821703</td>\n",
       "            <td>0.20176526795580754</td>\n",
       "            <td>0.043202651484178546</td>\n",
       "            <td>less than first quantile</td>\n",
       "        </tr>\n",
       "        <tr>\n",
       "            <td>0.31822403299622276</td>\n",
       "            <td>0.30133882152905056</td>\n",
       "            <td>0.2933684359951746</td>\n",
       "            <td>0.07812402602946884</td>\n",
       "            <td>between median and third quantile</td>\n",
       "        </tr>\n",
       "        <tr>\n",
       "            <td>0.05278347443171793</td>\n",
       "            <td>0.026221164365567026</td>\n",
       "            <td>0.20117989357822627</td>\n",
       "            <td>0.6091254514298711</td>\n",
       "            <td>between third quantile and 0.95 of usage</td>\n",
       "        </tr>\n",
       "    </tbody>\n",
       "</table>"
      ],
      "text/plain": [
       "+--------------------------+-----------------------------------+-----------------------------------+------------------------------------------+------------------------------------------+\n",
       "| less than first quantile | between first quantile and median | between median and third quantile | between third quantile and 0.95 of usage |        A_DataPackage_observation         |\n",
       "+--------------------------+-----------------------------------+-----------------------------------+------------------------------------------+------------------------------------------+\n",
       "|    0.4227562882024996    |         0.3236550422821703        |        0.20176526795580754        |           0.043202651484178546           |         less than first quantile         |\n",
       "|   0.31822403299622276    |        0.30133882152905056        |         0.2933684359951746        |           0.07812402602946884            |    between median and third quantile     |\n",
       "|   0.05278347443171793    |        0.026221164365567026       |        0.20117989357822627        |            0.6091254514298711            | between third quantile and 0.95 of usage |\n",
       "+--------------------------+-----------------------------------+-----------------------------------+------------------------------------------+------------------------------------------+"
      ]
     },
     "execution_count": 48,
     "metadata": {},
     "output_type": "execute_result"
    }
   ],
   "source": [
    "Payment_DP"
   ]
  },
  {
   "cell_type": "code",
   "execution_count": 49,
   "id": "f2491593",
   "metadata": {},
   "outputs": [
    {
     "name": "stdout",
     "output_type": "stream",
     "text": [
      "probability the observation that has usage of data lesser than 1q in next month: 0.607491650091206\n",
      "probability the observation that has usage of data lesser than median greater than 1q: 0.0\n",
      "probability the observation that has usage of data lesser than 3q greater than median: 0.7499983310000059\n",
      "probability the observation that has usage of data lesser than 95% greater than 3q: 0.20000157082352388\n"
     ]
    }
   ],
   "source": [
    "All_observation = data['serial_number']\n",
    "# less than first quantile\n",
    "A_D_l_1q = data[data['data'] <= np.quantile(data['data'],.25)]['serial_number']\n",
    "# between first quantile and median\n",
    "A_D_l_median = data[data['data'] < np.quantile(data['data'],.5)]['serial_number']\n",
    "A_D_l_median_g_1q = intersect(A_D_l_median, complements(A_D_l_1q, All_observation))\n",
    "# between median and third quantile\n",
    "A_D_g_median = complements(A_D_l_median, All_observation)\n",
    "A_D_l_3q = data[data['data'] < np.quantile(data['data'],.75)]['serial_number']\n",
    "A_D_g_median_1_3q = intersect(A_D_l_3q, A_D_g_median)\n",
    "# between third quantile and 0.95 of usage\n",
    "A_D_g_3q = complements(A_D_l_3q, All_observation)\n",
    "A_D_l_95 = data[data['data'] < np.quantile(data['data'],.95)]['serial_number']\n",
    "A_D_l_95_g_3q = intersect(A_D_g_3q, A_D_l_95)\n",
    "\n",
    "A_data_observation = [A_D_l_1q, A_D_l_median_g_1q, A_D_g_median_1_3q, A_D_l_95_g_3q]\n",
    "\n",
    "# addition the probability of different of data usage\n",
    "P_l_1q = probability(A_D_l_1q,All_observation)\n",
    "P_l_median_g_1q = probability(A_D_l_median_g_1q,All_observation)\n",
    "P_l_3q_g_median = probability(A_D_g_median_1_3q,All_observation)\n",
    "P_l_95_g_3q = probability(A_D_l_95_g_3q,All_observation)\n",
    "\n",
    "Probability_data = [P_l_1q, P_l_median_g_1q, P_l_3q_g_median, P_l_95_g_3q]\n",
    "print('''probability the observation that has usage of data lesser than 1q in next month: {0}\n",
    "probability the observation that has usage of data lesser than median greater than 1q: {1}\n",
    "probability the observation that has usage of data lesser than 3q greater than median: {2}\n",
    "probability the observation that has usage of data lesser than 95% greater than 3q: {3}'''\n",
    ".format(Probability_data[0],Probability_data[1],Probability_data[2],Probability_data[3]))"
   ]
  },
  {
   "cell_type": "code",
   "execution_count": 50,
   "id": "430766ed",
   "metadata": {},
   "outputs": [],
   "source": [
    "# according to above result that shows the most than 50% of subsribers doesn't have any data_package usage, we need to omit\n",
    "A_D_observation = [A_D_l_1q, A_D_g_median_1_3q, A_D_l_95_g_3q]\n",
    "Probability_D = [P_l_1q, P_l_3q_g_median, P_l_95_g_3q]\n",
    "Payment_Data = PrettyTable(['less than first quantile', 'between first quantile and median',\n",
    "                             'between median and third quantile', 'between third quantile and 0.95 of usage'])\n",
    "s = np.ones((len(A_D_observation), len(A_Payment_observation)))\n",
    "for i in range(len(A_D_observation)):\n",
    "    for j in range(len(A_Payment_observation)):\n",
    "        s[i,j] = prob_intersect(A_Payment_observation[j],A_D_observation[i],All_observation)/Probability_D[i]\n",
    "\n",
    "for i in range(len(A_D_observation)):\n",
    "    A = s[i,:].tolist()\n",
    "    Payment_Data.add_row(A)\n",
    "Payment_Data.add_column('A_Data_observation',['less than first quantile', 'between median and third quantile',\n",
    "                                           'between third quantile and 0.95 of usage'])"
   ]
  },
  {
   "cell_type": "code",
   "execution_count": 51,
   "id": "878bf9a0",
   "metadata": {},
   "outputs": [
    {
     "data": {
      "text/html": [
       "<table>\n",
       "    <thead>\n",
       "        <tr>\n",
       "            <th>less than first quantile</th>\n",
       "            <th>between first quantile and median</th>\n",
       "            <th>between median and third quantile</th>\n",
       "            <th>between third quantile and 0.95 of usage</th>\n",
       "            <th>A_Data_observation</th>\n",
       "        </tr>\n",
       "    </thead>\n",
       "    <tbody>\n",
       "        <tr>\n",
       "            <td>0.3137061730980815</td>\n",
       "            <td>0.2173454915452332</td>\n",
       "            <td>0.23908715152126325</td>\n",
       "            <td>0.18319286228665918</td>\n",
       "            <td>less than first quantile</td>\n",
       "        </tr>\n",
       "        <tr>\n",
       "            <td>0.301020723397259</td>\n",
       "            <td>0.2275683283573024</td>\n",
       "            <td>0.24313522412036304</td>\n",
       "            <td>0.18219603711759524</td>\n",
       "            <td>between median and third quantile</td>\n",
       "        </tr>\n",
       "        <tr>\n",
       "            <td>0.11734941320384613</td>\n",
       "            <td>0.2914365264652232</td>\n",
       "            <td>0.33134298465906525</td>\n",
       "            <td>0.21742186686982493</td>\n",
       "            <td>between third quantile and 0.95 of usage</td>\n",
       "        </tr>\n",
       "    </tbody>\n",
       "</table>"
      ],
      "text/plain": [
       "+--------------------------+-----------------------------------+-----------------------------------+------------------------------------------+------------------------------------------+\n",
       "| less than first quantile | between first quantile and median | between median and third quantile | between third quantile and 0.95 of usage |            A_Data_observation            |\n",
       "+--------------------------+-----------------------------------+-----------------------------------+------------------------------------------+------------------------------------------+\n",
       "|    0.3137061730980815    |         0.2173454915452332        |        0.23908715152126325        |           0.18319286228665918            |         less than first quantile         |\n",
       "|    0.301020723397259     |         0.2275683283573024        |        0.24313522412036304        |           0.18219603711759524            |    between median and third quantile     |\n",
       "|   0.11734941320384613    |         0.2914365264652232        |        0.33134298465906525        |           0.21742186686982493            | between third quantile and 0.95 of usage |\n",
       "+--------------------------+-----------------------------------+-----------------------------------+------------------------------------------+------------------------------------------+"
      ]
     },
     "execution_count": 51,
     "metadata": {},
     "output_type": "execute_result"
    }
   ],
   "source": [
    "Payment_Data"
   ]
  },
  {
   "cell_type": "markdown",
   "id": "a725161d",
   "metadata": {},
   "source": [
    "As before mentioned two feature in dataset exist that we can do cluster sampling and find above value for the whole dataset without their affection\n",
    "1. province_name\n",
    "2. payment_type"
   ]
  },
  {
   "cell_type": "code",
   "execution_count": 52,
   "id": "73b45b60",
   "metadata": {},
   "outputs": [],
   "source": [
    "Province = sorted(data['province_name'].unique())\n",
    "first = Province.pop()\n",
    "sample_size = data.groupby('province_name').count()['serial_number'].min()\n",
    "\n",
    "S_Data = data[data.province_name == first].sample(n=sample_size)\n",
    "for i in Province:\n",
    "    sample_data = data[data.province_name == i].sample(n=sample_size)\n",
    "    S_Data = pd.concat([S_Data,sample_data],axis=0)"
   ]
  },
  {
   "cell_type": "code",
   "execution_count": 53,
   "id": "24696de5",
   "metadata": {},
   "outputs": [],
   "source": [
    "S_D_pre = data[data.payment_type == 'PRE'].sample(n=100000)\n",
    "S_D_pos = data[data.payment_type == 'POS'].sample(n=100000)\n",
    "S_D_Ptype = pd.concat([S_D_pre,S_D_pos],axis=0)"
   ]
  },
  {
   "cell_type": "markdown",
   "id": "7be64316",
   "metadata": {},
   "source": [
    "#### First check the some probabilities with clustring of province"
   ]
  },
  {
   "cell_type": "code",
   "execution_count": 54,
   "id": "d5da0190",
   "metadata": {},
   "outputs": [
    {
     "data": {
      "image/png": "[encoded data removed]",
      "text/plain": [
       "<Figure size 1008x576 with 2 Axes>"
      ]
     },
     "metadata": {
      "needs_background": "light"
     },
     "output_type": "display_data"
    }
   ],
   "source": [
    "plt.figure(figsize=(14,8))\n",
    "sns.heatmap(S_Data.corr(),annot=True,cmap='viridis');"
   ]
  },
  {
   "cell_type": "code",
   "execution_count": 55,
   "id": "d45bd502",
   "metadata": {},
   "outputs": [
    {
     "name": "stdout",
     "output_type": "stream",
     "text": [
      "probability the observation that has no payment in next month: 0.2496718143870673\n",
      "probability the observation that payment less than mean exclude no payment of population: 0.4036542244427549\n",
      "probability the observation that payment more than mean of population: 0.3466739611701778\n",
      "probability the observation that payment more than 95% of population: 0.050121552710162824\n"
     ]
    }
   ],
   "source": [
    "All_observation = S_Data['serial_number']\n",
    "A_NotPaid = S_Data[S_Data['payment'] == 0]['serial_number']\n",
    "A_Paid = complements(A_NotPaid, All_observation)\n",
    "A_lessPaid = S_Data[S_Data['payment'] < S_Data['payment'].mean()]['serial_number']\n",
    "A_lessPaid_without_NotPayment = intersect(A_lessPaid, A_Paid)\n",
    "A_upper_mean = S_Data[S_Data['payment'] >= S_Data['payment'].mean()]['serial_number']\n",
    "A_upper_95 = S_Data[S_Data['payment'] >= np.quantile(S_Data['payment'],.95)]['serial_number']\n",
    "\n",
    "Pnot_payment = probability(A_NotPaid, All_observation)\n",
    "Pless_than_mean = probability(A_lessPaid_without_NotPayment, All_observation)\n",
    "Pmore_than_mean = probability(A_upper_mean, All_observation)\n",
    "Pmore_than_95 = probability(A_upper_95, All_observation)\n",
    "Payment_probability = [Pnot_payment, Pless_than_mean, Pmore_than_mean, Pmore_than_95]\n",
    "print('''probability the observation that has no payment in next month: {0}\n",
    "probability the observation that payment less than mean exclude no payment of population: {1}\n",
    "probability the observation that payment more than mean of population: {2}\n",
    "probability the observation that payment more than 95% of population: {3}'''\n",
    ".format(Payment_probability[0],Payment_probability[1],Payment_probability[2],Payment_probability[3]))"
   ]
  },
  {
   "cell_type": "code",
   "execution_count": 56,
   "id": "3d40ad91",
   "metadata": {},
   "outputs": [
    {
     "name": "stdout",
     "output_type": "stream",
     "text": [
      "probability the observation that has usage of voice lesser than 1q in next month: 0.25008615291371167\n",
      "probability the observation that has usage of voice lesser than median greater than 1q: 0.24988904041074492\n",
      "probability the observation that has usage of voice lesser than 3q greater than median: 0.2500164260419139\n",
      "probability the observation that has usage of voice lesser than 95% greater than 3q: 0.20000750904773207\n"
     ]
    }
   ],
   "source": [
    "All_observation = S_Data['serial_number']\n",
    "# less than first quantile\n",
    "A_V_l_1q = S_Data[S_Data['voice'] <= np.quantile(S_Data['voice'],.25)]['serial_number']\n",
    "# between first quantile and median\n",
    "A_V_l_median = S_Data[S_Data['voice'] < np.quantile(S_Data['voice'],.5)]['serial_number']\n",
    "A_V_l_median_g_1q = intersect(A_V_l_median, complements(A_V_l_1q, All_observation))\n",
    "# between median and third quantile\n",
    "A_V_g_median = complements(A_V_l_median, All_observation)\n",
    "A_V_l_3q = S_Data[S_Data['voice'] < np.quantile(S_Data['voice'],.75)]['serial_number']\n",
    "A_V_g_median_1_3q = intersect(A_V_l_3q, A_V_g_median)\n",
    "# between third quantile and 0.95 of usage\n",
    "A_V_g_3q = complements(A_V_l_3q, All_observation)\n",
    "A_V_l_95 = S_Data[S_Data['voice'] < np.quantile(S_Data['voice'],.95)]['serial_number']\n",
    "A_V_l_95_g_3q = intersect(A_V_g_3q, A_V_l_95)\n",
    "\n",
    "A_Voice_observation = [A_V_l_1q, A_V_l_median_g_1q, A_V_g_median_1_3q, A_V_l_95_g_3q]\n",
    "\n",
    "# addition the probability of different of voice usage\n",
    "P_l_1q = probability(A_V_l_1q,All_observation)\n",
    "P_l_median_g_1q = probability(A_V_l_median_g_1q,All_observation)\n",
    "P_l_3q_g_median = probability(A_V_g_median_1_3q,All_observation)\n",
    "P_l_95_g_3q = probability(A_V_l_95_g_3q,All_observation)\n",
    "\n",
    "Probability_Voice = [P_l_1q, P_l_median_g_1q, P_l_3q_g_median, P_l_95_g_3q]\n",
    "print('''probability the observation that has usage of voice lesser than 1q in next month: {0}\n",
    "probability the observation that has usage of voice lesser than median greater than 1q: {1}\n",
    "probability the observation that has usage of voice lesser than 3q greater than median: {2}\n",
    "probability the observation that has usage of voice lesser than 95% greater than 3q: {3}'''\n",
    ".format(Probability_Voice[0],Probability_Voice[1],Probability_Voice[2],Probability_Voice[3]))"
   ]
  },
  {
   "cell_type": "code",
   "execution_count": 57,
   "id": "51abdafd",
   "metadata": {},
   "outputs": [
    {
     "name": "stdout",
     "output_type": "stream",
     "text": [
      "probability the observation that has usage of sms lesser than 1q in next month: 0.25245150294931257\n",
      "probability the observation that has usage of sms lesser than median greater than 1q: 0.24754648569861631\n",
      "probability the observation that has usage of sms lesser than 3q greater than median: 0.2500016761267259\n",
      "probability the observation that has usage of sms lesser than 95% greater than 3q: 0.199998122738067\n"
     ]
    }
   ],
   "source": [
    "All_observation = S_Data['serial_number']\n",
    "# less than first quantile\n",
    "A_S_l_1q = S_Data[S_Data['sms'] <= np.quantile(S_Data['sms'],.25)]['serial_number']\n",
    "# between first quantile and median\n",
    "A_S_l_median = S_Data[S_Data['sms'] < np.quantile(S_Data['sms'],.5)]['serial_number']\n",
    "A_S_l_median_g_1q = intersect(A_S_l_median, complements(A_S_l_1q, All_observation))\n",
    "# between median and third quantile\n",
    "A_S_g_median = complements(A_S_l_median, All_observation)\n",
    "A_S_l_3q = S_Data[S_Data['sms'] < np.quantile(S_Data['sms'],.75)]['serial_number']\n",
    "A_S_g_median_1_3q = intersect(A_S_l_3q, A_S_g_median)\n",
    "# between third quantile and 0.95 of usage\n",
    "A_S_g_3q = complements(A_S_l_3q, All_observation)\n",
    "A_S_l_95 = S_Data[S_Data['sms'] < np.quantile(S_Data['sms'],.95)]['serial_number']\n",
    "A_S_l_95_g_3q = intersect(A_S_g_3q, A_S_l_95)\n",
    "\n",
    "A_SMS_observation = [A_S_l_1q, A_S_l_median_g_1q, A_S_g_median_1_3q, A_S_l_95_g_3q]\n",
    "\n",
    "# addition the probability of different of sms usage\n",
    "P_l_1q = probability(A_S_l_1q,All_observation)\n",
    "P_l_median_g_1q = probability(A_S_l_median_g_1q,All_observation)\n",
    "P_l_3q_g_median = probability(A_S_g_median_1_3q,All_observation)\n",
    "P_l_95_g_3q = probability(A_S_l_95_g_3q,All_observation)\n",
    "\n",
    "Probability_SMS = [P_l_1q, P_l_median_g_1q, P_l_3q_g_median, P_l_95_g_3q]\n",
    "print('''probability the observation that has usage of sms lesser than 1q in next month: {0}\n",
    "probability the observation that has usage of sms lesser than median greater than 1q: {1}\n",
    "probability the observation that has usage of sms lesser than 3q greater than median: {2}\n",
    "probability the observation that has usage of sms lesser than 95% greater than 3q: {3}'''\n",
    ".format(Probability_SMS[0],Probability_SMS[1],Probability_SMS[2],Probability_SMS[3]))"
   ]
  },
  {
   "cell_type": "code",
   "execution_count": 58,
   "id": "b24d272c",
   "metadata": {},
   "outputs": [
    {
     "name": "stdout",
     "output_type": "stream",
     "text": [
      "probability the observation that has usage of data_package lesser than 1q in next month: 0.4930132333557264\n",
      "probability the observation that has usage of data_package lesser than median greater than 1q: 0.00632771361564671\n",
      "probability the observation that has usage of data_package lesser than 3q greater than median: 0.25065871780328175\n",
      "probability the observation that has usage of data_package lesser than 95% greater than 3q: 0.1999994636394477\n"
     ]
    }
   ],
   "source": [
    "All_observation = S_Data['serial_number']\n",
    "# less than first quantile\n",
    "A_DP_l_1q = S_Data[S_Data['data_package'] <= np.quantile(S_Data['data_package'],.25)]['serial_number']\n",
    "# between first quantile and median\n",
    "A_DP_l_median = S_Data[S_Data['data_package'] < np.quantile(S_Data['data_package'],.5)]['serial_number']\n",
    "A_DP_l_median_g_1q = intersect(A_DP_l_median, complements(A_DP_l_1q, All_observation))\n",
    "# between median and third quantile\n",
    "A_DP_g_median = complements(A_DP_l_median, All_observation)\n",
    "A_DP_l_3q = S_Data[S_Data['data_package'] < np.quantile(S_Data['data_package'],.75)]['serial_number']\n",
    "A_DP_g_median_1_3q = intersect(A_DP_l_3q, A_DP_g_median)\n",
    "# between third quantile and 0.95 of usage\n",
    "A_DP_g_3q = complements(A_DP_l_3q, All_observation)\n",
    "A_DP_l_95 = S_Data[S_Data['data_package'] < np.quantile(S_Data['data_package'],.95)]['serial_number']\n",
    "A_DP_l_95_g_3q = intersect(A_DP_g_3q, A_DP_l_95)\n",
    "\n",
    "A_data_package_observation = [A_DP_l_1q, A_DP_l_median_g_1q, A_DP_g_median_1_3q, A_DP_l_95_g_3q]\n",
    "\n",
    "# addition the probability of different of data_package usage\n",
    "P_l_1q = probability(A_DP_l_1q,All_observation)\n",
    "P_l_median_g_1q = probability(A_DP_l_median_g_1q,All_observation)\n",
    "P_l_3q_g_median = probability(A_DP_g_median_1_3q,All_observation)\n",
    "P_l_95_g_3q = probability(A_DP_l_95_g_3q,All_observation)\n",
    "\n",
    "Probability_data_package = [P_l_1q, P_l_median_g_1q, P_l_3q_g_median, P_l_95_g_3q]\n",
    "print('''probability the observation that has usage of data_package lesser than 1q in next month: {0}\n",
    "probability the observation that has usage of data_package lesser than median greater than 1q: {1}\n",
    "probability the observation that has usage of data_package lesser than 3q greater than median: {2}\n",
    "probability the observation that has usage of data_package lesser than 95% greater than 3q: {3}'''\n",
    ".format(Probability_data_package[0],Probability_data_package[1],Probability_data_package[2],Probability_data_package[3]))"
   ]
  },
  {
   "cell_type": "code",
   "execution_count": 59,
   "id": "d1f5fe88",
   "metadata": {},
   "outputs": [
    {
     "name": "stdout",
     "output_type": "stream",
     "text": [
      "probability the observation that has usage of data lesser than 1q in next month: 0.5973782696204042\n",
      "probability the observation that has usage of data lesser than median greater than 1q: 0.0\n",
      "probability the observation that has usage of data lesser than 3q greater than median: 0.7499996647746549\n",
      "probability the observation that has usage of data lesser than 95% greater than 3q: 0.1999994636394477\n"
     ]
    }
   ],
   "source": [
    "All_observation = S_Data['serial_number']\n",
    "# less than first quantile\n",
    "A_D_l_1q = S_Data[S_Data['data'] <= np.quantile(S_Data['data'],.25)]['serial_number']\n",
    "# between first quantile and median\n",
    "A_D_l_median = S_Data[S_Data['data'] < np.quantile(S_Data['data'],.5)]['serial_number']\n",
    "A_D_l_median_g_1q = intersect(A_D_l_median, complements(A_D_l_1q, All_observation))\n",
    "# between median and third quantile\n",
    "A_D_g_median = complements(A_D_l_median, All_observation)\n",
    "A_D_l_3q = S_Data[S_Data['data'] < np.quantile(S_Data['data'],.75)]['serial_number']\n",
    "A_D_g_median_1_3q = intersect(A_D_l_3q, A_D_g_median)\n",
    "# between third quantile and 0.95 of usage\n",
    "A_D_g_3q = complements(A_D_l_3q, All_observation)\n",
    "A_D_l_95 = S_Data[S_Data['data'] < np.quantile(S_Data['data'],.95)]['serial_number']\n",
    "A_D_l_95_g_3q = intersect(A_D_g_3q, A_D_l_95)\n",
    "\n",
    "A_data_observation = [A_D_l_1q, A_D_l_median_g_1q, A_D_g_median_1_3q, A_D_l_95_g_3q]\n",
    "\n",
    "# addition the probability of different of data usage\n",
    "P_l_1q = probability(A_D_l_1q,All_observation)\n",
    "P_l_median_g_1q = probability(A_D_l_median_g_1q,All_observation)\n",
    "P_l_3q_g_median = probability(A_D_g_median_1_3q,All_observation)\n",
    "P_l_95_g_3q = probability(A_D_l_95_g_3q,All_observation)\n",
    "\n",
    "Probability_data = [P_l_1q, P_l_median_g_1q, P_l_3q_g_median, P_l_95_g_3q]\n",
    "print('''probability the observation that has usage of data lesser than 1q in next month: {0}\n",
    "probability the observation that has usage of data lesser than median greater than 1q: {1}\n",
    "probability the observation that has usage of data lesser than 3q greater than median: {2}\n",
    "probability the observation that has usage of data lesser than 95% greater than 3q: {3}'''\n",
    ".format(Probability_data[0],Probability_data[1],Probability_data[2],Probability_data[3]))"
   ]
  },
  {
   "cell_type": "markdown",
   "id": "06132d0e",
   "metadata": {},
   "source": [
    "According to output of above probability calculation the there is not huge different with whole information and it is showed that distribution around the area are near"
   ]
  },
  {
   "cell_type": "markdown",
   "id": "f743ee61",
   "metadata": {},
   "source": [
    "#### second check the some probabilities with clustring of payment type"
   ]
  },
  {
   "cell_type": "code",
   "execution_count": 60,
   "id": "cbe00963",
   "metadata": {},
   "outputs": [
    {
     "data": {
      "image/png": "[encoded data removed]",
      "text/plain": [
       "<Figure size 1008x576 with 2 Axes>"
      ]
     },
     "metadata": {
      "needs_background": "light"
     },
     "output_type": "display_data"
    }
   ],
   "source": [
    "plt.figure(figsize=(14,8))\n",
    "sns.heatmap(S_D_Ptype.corr(),annot=True,cmap='viridis');"
   ]
  },
  {
   "cell_type": "code",
   "execution_count": 61,
   "id": "e612f10c",
   "metadata": {},
   "outputs": [
    {
     "name": "stdout",
     "output_type": "stream",
     "text": [
      "probability the observation that has no payment in next month: 0.22991\n",
      "probability the observation that payment less than mean exclude no payment of population: 0.421275\n",
      "probability the observation that payment more than mean of population: 0.348815\n",
      "probability the observation that payment more than 95% of population: 0.050075\n"
     ]
    }
   ],
   "source": [
    "All_observation = S_D_Ptype['serial_number']\n",
    "A_NotPaid = S_D_Ptype[S_D_Ptype['payment'] == 0]['serial_number']\n",
    "A_Paid = complements(A_NotPaid, All_observation)\n",
    "A_lessPaid = S_D_Ptype[S_D_Ptype['payment'] < S_D_Ptype['payment'].mean()]['serial_number']\n",
    "A_lessPaid_without_NotPayment = intersect(A_lessPaid, A_Paid)\n",
    "A_upper_mean = S_D_Ptype[S_D_Ptype['payment'] >= S_D_Ptype['payment'].mean()]['serial_number']\n",
    "A_upper_95 = S_D_Ptype[S_D_Ptype['payment'] >= np.quantile(S_D_Ptype['payment'],.95)]['serial_number']\n",
    "\n",
    "Pnot_payment = probability(A_NotPaid, All_observation)\n",
    "Pless_than_mean = probability(A_lessPaid_without_NotPayment, All_observation)\n",
    "Pmore_than_mean = probability(A_upper_mean, All_observation)\n",
    "Pmore_than_95 = probability(A_upper_95, All_observation)\n",
    "Payment_probability = [Pnot_payment, Pless_than_mean, Pmore_than_mean, Pmore_than_95]\n",
    "print('''probability the observation that has no payment in next month: {0}\n",
    "probability the observation that payment less than mean exclude no payment of population: {1}\n",
    "probability the observation that payment more than mean of population: {2}\n",
    "probability the observation that payment more than 95% of population: {3}'''\n",
    ".format(Payment_probability[0],Payment_probability[1],Payment_probability[2],Payment_probability[3]))"
   ]
  },
  {
   "cell_type": "code",
   "execution_count": 62,
   "id": "3884a5b1",
   "metadata": {},
   "outputs": [
    {
     "name": "stdout",
     "output_type": "stream",
     "text": [
      "probability the observation that has usage of voice lesser than 1q in next month: 0.25\n",
      "probability the observation that has usage of voice lesser than median greater than 1q: 0.25\n",
      "probability the observation that has usage of voice lesser than 3q greater than median: 0.25\n",
      "probability the observation that has usage of voice lesser than 95% greater than 3q: 0.2\n"
     ]
    }
   ],
   "source": [
    "All_observation = S_D_Ptype['serial_number']\n",
    "# less than first quantile\n",
    "A_V_l_1q = S_D_Ptype[S_D_Ptype['voice'] <= np.quantile(S_D_Ptype['voice'],.25)]['serial_number']\n",
    "# between first quantile and median\n",
    "A_V_l_median = S_D_Ptype[S_D_Ptype['voice'] < np.quantile(S_D_Ptype['voice'],.5)]['serial_number']\n",
    "A_V_l_median_g_1q = intersect(A_V_l_median, complements(A_V_l_1q, All_observation))\n",
    "# between median and third quantile\n",
    "A_V_g_median = complements(A_V_l_median, All_observation)\n",
    "A_V_l_3q = S_D_Ptype[S_D_Ptype['voice'] < np.quantile(S_D_Ptype['voice'],.75)]['serial_number']\n",
    "A_V_g_median_1_3q = intersect(A_V_l_3q, A_V_g_median)\n",
    "# between third quantile and 0.95 of usage\n",
    "A_V_g_3q = complements(A_V_l_3q, All_observation)\n",
    "A_V_l_95 = S_D_Ptype[S_D_Ptype['voice'] < np.quantile(S_D_Ptype['voice'],.95)]['serial_number']\n",
    "A_V_l_95_g_3q = intersect(A_V_g_3q, A_V_l_95)\n",
    "\n",
    "A_Voice_observation = [A_V_l_1q, A_V_l_median_g_1q, A_V_g_median_1_3q, A_V_l_95_g_3q]\n",
    "\n",
    "# addition the probability of different of voice usage\n",
    "P_l_1q = probability(A_V_l_1q,All_observation)\n",
    "P_l_median_g_1q = probability(A_V_l_median_g_1q,All_observation)\n",
    "P_l_3q_g_median = probability(A_V_g_median_1_3q,All_observation)\n",
    "P_l_95_g_3q = probability(A_V_l_95_g_3q,All_observation)\n",
    "\n",
    "Probability_Voice = [P_l_1q, P_l_median_g_1q, P_l_3q_g_median, P_l_95_g_3q]\n",
    "print('''probability the observation that has usage of voice lesser than 1q in next month: {0}\n",
    "probability the observation that has usage of voice lesser than median greater than 1q: {1}\n",
    "probability the observation that has usage of voice lesser than 3q greater than median: {2}\n",
    "probability the observation that has usage of voice lesser than 95% greater than 3q: {3}'''\n",
    ".format(Probability_Voice[0],Probability_Voice[1],Probability_Voice[2],Probability_Voice[3]))"
   ]
  },
  {
   "cell_type": "code",
   "execution_count": 63,
   "id": "7fc9a449",
   "metadata": {},
   "outputs": [
    {
     "name": "stdout",
     "output_type": "stream",
     "text": [
      "probability the observation that has usage of sms lesser than 1q in next month: 0.25288\n",
      "probability the observation that has usage of sms lesser than median greater than 1q: 0.24693\n",
      "probability the observation that has usage of sms lesser than 3q greater than median: 0.250165\n",
      "probability the observation that has usage of sms lesser than 95% greater than 3q: 0.20001\n"
     ]
    }
   ],
   "source": [
    "All_observation = S_D_Ptype['serial_number']\n",
    "# less than first quantile\n",
    "A_S_l_1q = S_D_Ptype[S_D_Ptype['sms'] <= np.quantile(S_D_Ptype['sms'],.25)]['serial_number']\n",
    "# between first quantile and median\n",
    "A_S_l_median = S_D_Ptype[S_D_Ptype['sms'] < np.quantile(S_D_Ptype['sms'],.5)]['serial_number']\n",
    "A_S_l_median_g_1q = intersect(A_S_l_median, complements(A_S_l_1q, All_observation))\n",
    "# between median and third quantile\n",
    "A_S_g_median = complements(A_S_l_median, All_observation)\n",
    "A_S_l_3q = S_D_Ptype[S_D_Ptype['sms'] < np.quantile(S_D_Ptype['sms'],.75)]['serial_number']\n",
    "A_S_g_median_1_3q = intersect(A_S_l_3q, A_S_g_median)\n",
    "# between third quantile and 0.95 of usage\n",
    "A_S_g_3q = complements(A_S_l_3q, All_observation)\n",
    "A_S_l_95 = S_D_Ptype[S_D_Ptype['sms'] < np.quantile(S_D_Ptype['sms'],.95)]['serial_number']\n",
    "A_S_l_95_g_3q = intersect(A_S_g_3q, A_S_l_95)\n",
    "\n",
    "A_SMS_observation = [A_S_l_1q, A_S_l_median_g_1q, A_S_g_median_1_3q, A_S_l_95_g_3q]\n",
    "\n",
    "# addition the probability of different of sms usage\n",
    "P_l_1q = probability(A_S_l_1q,All_observation)\n",
    "P_l_median_g_1q = probability(A_S_l_median_g_1q,All_observation)\n",
    "P_l_3q_g_median = probability(A_S_g_median_1_3q,All_observation)\n",
    "P_l_95_g_3q = probability(A_S_l_95_g_3q,All_observation)\n",
    "\n",
    "Probability_SMS = [P_l_1q, P_l_median_g_1q, P_l_3q_g_median, P_l_95_g_3q]\n",
    "print('''probability the observation that has usage of sms lesser than 1q in next month: {0}\n",
    "probability the observation that has usage of sms lesser than median greater than 1q: {1}\n",
    "probability the observation that has usage of sms lesser than 3q greater than median: {2}\n",
    "probability the observation that has usage of sms lesser than 95% greater than 3q: {3}'''\n",
    ".format(Probability_SMS[0],Probability_SMS[1],Probability_SMS[2],Probability_SMS[3]))"
   ]
  },
  {
   "cell_type": "code",
   "execution_count": 64,
   "id": "ad865234",
   "metadata": {},
   "outputs": [
    {
     "name": "stdout",
     "output_type": "stream",
     "text": [
      "probability the observation that has usage of data_package lesser than 1q in next month: 0.507475\n",
      "probability the observation that has usage of data_package lesser than median greater than 1q: 0.0\n",
      "probability the observation that has usage of data_package lesser than 3q greater than median: 0.73711\n",
      "probability the observation that has usage of data_package lesser than 95% greater than 3q: 0.21288\n"
     ]
    }
   ],
   "source": [
    "All_observation = S_D_Ptype['serial_number']\n",
    "# less than first quantile\n",
    "A_DP_l_1q = S_D_Ptype[S_D_Ptype['data_package'] <= np.quantile(S_D_Ptype['data_package'],.25)]['serial_number']\n",
    "# between first quantile and median\n",
    "A_DP_l_median = S_D_Ptype[S_D_Ptype['data_package'] < np.quantile(S_D_Ptype['data_package'],.5)]['serial_number']\n",
    "A_DP_l_median_g_1q = intersect(A_DP_l_median, complements(A_DP_l_1q, All_observation))\n",
    "# between median and third quantile\n",
    "A_DP_g_median = complements(A_DP_l_median, All_observation)\n",
    "A_DP_l_3q = S_D_Ptype[S_D_Ptype['data_package'] < np.quantile(S_D_Ptype['data_package'],.75)]['serial_number']\n",
    "A_DP_g_median_1_3q = intersect(A_DP_l_3q, A_DP_g_median)\n",
    "# between third quantile and 0.95 of usage\n",
    "A_DP_g_3q = complements(A_DP_l_3q, All_observation)\n",
    "A_DP_l_95 = S_D_Ptype[S_D_Ptype['data_package'] < np.quantile(S_D_Ptype['data_package'],.95)]['serial_number']\n",
    "A_DP_l_95_g_3q = intersect(A_DP_g_3q, A_DP_l_95)\n",
    "\n",
    "A_data_package_observation = [A_DP_l_1q, A_DP_l_median_g_1q, A_DP_g_median_1_3q, A_DP_l_95_g_3q]\n",
    "\n",
    "# addition the probability of different of data_package usage\n",
    "P_l_1q = probability(A_DP_l_1q,All_observation)\n",
    "P_l_median_g_1q = probability(A_DP_l_median_g_1q,All_observation)\n",
    "P_l_3q_g_median = probability(A_DP_g_median_1_3q,All_observation)\n",
    "P_l_95_g_3q = probability(A_DP_l_95_g_3q,All_observation)\n",
    "\n",
    "Probability_data_package = [P_l_1q, P_l_median_g_1q, P_l_3q_g_median, P_l_95_g_3q]\n",
    "print('''probability the observation that has usage of data_package lesser than 1q in next month: {0}\n",
    "probability the observation that has usage of data_package lesser than median greater than 1q: {1}\n",
    "probability the observation that has usage of data_package lesser than 3q greater than median: {2}\n",
    "probability the observation that has usage of data_package lesser than 95% greater than 3q: {3}'''\n",
    ".format(Probability_data_package[0],Probability_data_package[1],Probability_data_package[2],Probability_data_package[3]))"
   ]
  },
  {
   "cell_type": "code",
   "execution_count": 65,
   "id": "db5d13da",
   "metadata": {},
   "outputs": [
    {
     "name": "stdout",
     "output_type": "stream",
     "text": [
      "probability the observation that has usage of data lesser than 1q in next month: 0.657415\n",
      "probability the observation that has usage of data lesser than median greater than 1q: 0.0\n",
      "probability the observation that has usage of data lesser than 3q greater than median: 0.75\n",
      "probability the observation that has usage of data lesser than 95% greater than 3q: 0.2\n"
     ]
    }
   ],
   "source": [
    "All_observation = S_D_Ptype['serial_number']\n",
    "# less than first quantile\n",
    "A_D_l_1q = S_D_Ptype[S_D_Ptype['data'] <= np.quantile(S_D_Ptype['data'],.25)]['serial_number']\n",
    "# between first quantile and median\n",
    "A_D_l_median = S_D_Ptype[S_D_Ptype['data'] < np.quantile(S_D_Ptype['data'],.5)]['serial_number']\n",
    "A_D_l_median_g_1q = intersect(A_D_l_median, complements(A_D_l_1q, All_observation))\n",
    "# between median and third quantile\n",
    "A_D_g_median = complements(A_D_l_median, All_observation)\n",
    "A_D_l_3q = S_D_Ptype[S_D_Ptype['data'] < np.quantile(S_D_Ptype['data'],.75)]['serial_number']\n",
    "A_D_g_median_1_3q = intersect(A_D_l_3q, A_D_g_median)\n",
    "# between third quantile and 0.95 of usage\n",
    "A_D_g_3q = complements(A_D_l_3q, All_observation)\n",
    "A_D_l_95 = S_D_Ptype[S_D_Ptype['data'] < np.quantile(S_D_Ptype['data'],.95)]['serial_number']\n",
    "A_D_l_95_g_3q = intersect(A_D_g_3q, A_D_l_95)\n",
    "\n",
    "A_data_observation = [A_D_l_1q, A_D_l_median_g_1q, A_D_g_median_1_3q, A_D_l_95_g_3q]\n",
    "\n",
    "# addition the probability of different of data usage\n",
    "P_l_1q = probability(A_D_l_1q,All_observation)\n",
    "P_l_median_g_1q = probability(A_D_l_median_g_1q,All_observation)\n",
    "P_l_3q_g_median = probability(A_D_g_median_1_3q,All_observation)\n",
    "P_l_95_g_3q = probability(A_D_l_95_g_3q,All_observation)\n",
    "\n",
    "Probability_data = [P_l_1q, P_l_median_g_1q, P_l_3q_g_median, P_l_95_g_3q]\n",
    "print('''probability the observation that has usage of data lesser than 1q in next month: {0}\n",
    "probability the observation that has usage of data lesser than median greater than 1q: {1}\n",
    "probability the observation that has usage of data lesser than 3q greater than median: {2}\n",
    "probability the observation that has usage of data lesser than 95% greater than 3q: {3}'''\n",
    ".format(Probability_data[0],Probability_data[1],Probability_data[2],Probability_data[3]))"
   ]
  },
  {
   "cell_type": "markdown",
   "id": "ae558faf",
   "metadata": {},
   "source": [
    "Again the output of probabilities are sami-equal to previous information, so the payment_type distribution are not affect our data"
   ]
  },
  {
   "cell_type": "markdown",
   "id": "30b96ee7",
   "metadata": {},
   "source": [
    "### look data as sample data of all company subscribers"
   ]
  },
  {
   "cell_type": "markdown",
   "id": "bd083a7d",
   "metadata": {},
   "source": [
    "- take the estimation with confidence interval equal with 99%, because our sample has huge we can take it as normal distribution"
   ]
  },
  {
   "cell_type": "code",
   "execution_count": 66,
   "id": "3d2bf689",
   "metadata": {},
   "outputs": [],
   "source": [
    "def Mu_estimation(column, CI):\n",
    "    z_critical= scipy.stats.norm.ppf(q= CI)\n",
    "    sample_size = data[column].count()\n",
    "    sample_mean = data[column].mean()\n",
    "    sample_std = data[column].std()\n",
    "    margin_error = z_critical*(sample_std/(math.sqrt(sample_size)))\n",
    "    return (sample_mean-margin_error, sample_mean+margin_error)\n",
    "\n",
    "def Pro_estimation(column, CI, great_prcentage):\n",
    "    z_critical= scipy.stats.norm.ppf(q= CI)\n",
    "    sample_size = data[column].count()\n",
    "    P_success = data[data[column] < np.quantile(data[column],great_prcentage)][column].count() / sample_size\n",
    "    margin_error = z_critical*math.sqrt(P_success*(1-P_success)/sample_size)\n",
    "    return (P_success-margin_error, P_success+margin_error)\n"
   ]
  },
  {
   "cell_type": "code",
   "execution_count": 67,
   "id": "b9c43fd0",
   "metadata": {},
   "outputs": [],
   "source": [
    "columns = ['payment','voice','sms','data_package','data']\n",
    "\n",
    "CI = 0.995\n",
    "great_prcentage = 0.95\n",
    "Mu_estimations = []\n",
    "Pro_estimations = []\n",
    "\n",
    "for i in columns:\n",
    "    Mu_estimations.append(Mu_estimation(i, CI))\n",
    "    Pro_estimations.append(Pro_estimation(i, CI, great_prcentage))\n",
    "\n",
    "Mu_Prop_table = PrettyTable(['Mu_estimation','Pro_estimation'])\n",
    "for i in range(len(Mu_estimations)):\n",
    "    Mu_Prop_table.add_row([Mu_estimations[i],Pro_estimations[i]])\n",
    "Mu_Prop_table.add_column('features',['payment','voice','sms','data-package','data'])"
   ]
  },
  {
   "cell_type": "code",
   "execution_count": 68,
   "id": "98915656",
   "metadata": {},
   "outputs": [
    {
     "data": {
      "text/html": [
       "<table>\n",
       "    <thead>\n",
       "        <tr>\n",
       "            <th>Mu_estimation</th>\n",
       "            <th>Pro_estimation</th>\n",
       "            <th>features</th>\n",
       "        </tr>\n",
       "    </thead>\n",
       "    <tbody>\n",
       "        <tr>\n",
       "            <td>(0.997720376445152, 1.0022796235548475)</td>\n",
       "            <td>(0.948420773083715, 0.9491324729249205)</td>\n",
       "            <td>payment</td>\n",
       "        </tr>\n",
       "        <tr>\n",
       "            <td>(0.9972952928544804, 1.0027047071455206)</td>\n",
       "            <td>(0.9496445539451, 0.9503481809961021)</td>\n",
       "            <td>voice</td>\n",
       "        </tr>\n",
       "        <tr>\n",
       "            <td>(0.994430258054649, 1.0055697419453502)</td>\n",
       "            <td>(0.9496461300037775, 0.9503497465844724)</td>\n",
       "            <td>sms</td>\n",
       "        </tr>\n",
       "        <tr>\n",
       "            <td>(0.9970011703818481, 1.0029988296181542)</td>\n",
       "            <td>(0.9496481000772595, 0.9503517035698)</td>\n",
       "            <td>data-package</td>\n",
       "        </tr>\n",
       "        <tr>\n",
       "            <td>(0.9930006540581789, 1.0069993459418192)</td>\n",
       "            <td>(0.9496481000772595, 0.9503517035698)</td>\n",
       "            <td>data</td>\n",
       "        </tr>\n",
       "    </tbody>\n",
       "</table>"
      ],
      "text/plain": [
       "+------------------------------------------+------------------------------------------+--------------+\n",
       "|              Mu_estimation               |              Pro_estimation              |   features   |\n",
       "+------------------------------------------+------------------------------------------+--------------+\n",
       "| (0.997720376445152, 1.0022796235548475)  | (0.948420773083715, 0.9491324729249205)  |   payment    |\n",
       "| (0.9972952928544804, 1.0027047071455206) |  (0.9496445539451, 0.9503481809961021)   |    voice     |\n",
       "| (0.994430258054649, 1.0055697419453502)  | (0.9496461300037775, 0.9503497465844724) |     sms      |\n",
       "| (0.9970011703818481, 1.0029988296181542) |  (0.9496481000772595, 0.9503517035698)   | data-package |\n",
       "| (0.9930006540581789, 1.0069993459418192) |  (0.9496481000772595, 0.9503517035698)   |     data     |\n",
       "+------------------------------------------+------------------------------------------+--------------+"
      ]
     },
     "execution_count": 68,
     "metadata": {},
     "output_type": "execute_result"
    }
   ],
   "source": [
    "Mu_Prop_table"
   ]
  },
  {
   "cell_type": "markdown",
   "id": "db953947",
   "metadata": {},
   "source": [
    "#### Confidence Interval for Mu1 and Mu2"
   ]
  },
  {
   "cell_type": "code",
   "execution_count": 69,
   "id": "712113dd",
   "metadata": {},
   "outputs": [],
   "source": [
    "def Mu1_Mu2_estimation(column1, column2, CI):\n",
    "    z_critical= scipy.stats.norm.ppf(q= CI)\n",
    "    n1, n2= S_Data[column1].count(), S_Data[column2].count()\n",
    "    var1, var2 = S_Data[column1].var(), S_Data[column2].var()\n",
    "    C1_mean,C2_mean = S_Data[column1].mean(), S_Data[column2].mean()\n",
    "    diff_mean = C2_mean - C1_mean\n",
    "    margin_error = z_critical * (math.sqrt((var1/n1)+(var2/n2)))\n",
    "    return (diff_mean-margin_error, diff_mean+margin_error)"
   ]
  },
  {
   "cell_type": "code",
   "execution_count": 70,
   "id": "c282f42d",
   "metadata": {},
   "outputs": [
    {
     "name": "stdout",
     "output_type": "stream",
     "text": [
      "Confidence Interval of voice and sms: (0.06016453989484975, 0.08309280485239563)\n"
     ]
    }
   ],
   "source": [
    "print('Confidence Interval of voice and sms: {0}'.format(Mu1_Mu2_estimation('voice','sms',0.995)))"
   ]
  },
  {
   "cell_type": "markdown",
   "id": "f92c6602",
   "metadata": {},
   "source": [
    "### hypothesis test\n",
    "- We want to do hypothesis test for understanding the deffirence between Mu of two of our features are lesser than specific number or not\n",
    "- because the both voice service and selling data package are important for company, before any more investigation, the company wants to now the deffirence between mean of these two service are equal or enough near to plan for next invetigation"
   ]
  },
  {
   "cell_type": "code",
   "execution_count": 71,
   "id": "c1a789d5",
   "metadata": {},
   "outputs": [],
   "source": [
    "def Mu1_Mu2_Hypothesis_test(column1, column2, D):\n",
    "    n1, n2= S_D_Ptype[column1].count(), S_D_Ptype[column2].count()\n",
    "    var1, var2 = S_D_Ptype[column1].var(), S_D_Ptype[column2].var()\n",
    "    C1_mean,C2_mean = S_D_Ptype[column1].mean(), S_D_Ptype[column2].mean()\n",
    "    return (C1_mean - C2_mean - D) / math.sqrt((var1/n1)+(var2/n2))\n"
   ]
  },
  {
   "cell_type": "code",
   "execution_count": 72,
   "id": "da153df6",
   "metadata": {},
   "outputs": [
    {
     "data": {
      "text/plain": [
       "-65.05729807007307"
      ]
     },
     "execution_count": 72,
     "metadata": {},
     "output_type": "execute_result"
    }
   ],
   "source": [
    "# Now, we will find the mean of population usage using the sample D = 0.5\n",
    "Mu1_Mu2_Hypothesis_test('voice','data_package', 0.5)"
   ]
  },
  {
   "cell_type": "markdown",
   "id": "938b4756",
   "metadata": {},
   "source": [
    "As the value shows it is alot different exist between of the mean of selling data_package and usage of people of voice, so we can't reject the hypothesis testing"
   ]
  }
 ],
 "metadata": {
  "kernelspec": {
   "display_name": "Python 3 (ipykernel)",
   "language": "python",
   "name": "python3"
  },
  "language_info": {
   "codemirror_mode": {
    "name": "ipython",
    "version": 3
   },
   "file_extension": ".py",
   "mimetype": "text/x-python",
   "name": "python",
   "nbconvert_exporter": "python",
   "pygments_lexer": "ipython3",
   "version": "3.10.1"
  }
 },
 "nbformat": 4,
 "nbformat_minor": 5
}
